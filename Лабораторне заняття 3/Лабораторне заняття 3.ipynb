{
 "cells": [
  {
   "cell_type": "markdown",
   "metadata": {
    "collapsed": true
   },
   "source": [
    "# Лабораторне заняття №3\n",
    "Дане лабораторне заняття буде присвячене вирішенню задач, вже розв'язаних на практичних заняттях, за допомогою засобів, вивчених на перших двох лабораторних заняттях.\n",
    "\n",
    "Будемо використовувати *Збірник задач з теорії ймовірностей та математичної статистики: навч. посібник / В.В. Голомозий, М.В. Карташов, К.В. Ральченко. – К.: Видавничо-поліграфічний центр «Київський університет», 2015. – 366 с.*\n",
    "Електронну версію збірника можна знайти [тут](http://probability.univ.kiev.ua/userfiles/kmv/gkr-problems.pdf)."
   ]
  },
  {
   "cell_type": "markdown",
   "metadata": {},
   "source": [
    "## 1 Задача 1.3.6\n",
    "Знайти ймовiрнiсть того, що серед $k$ цифр, кожна з яких вибрана навмання (вибiрка з поверненням):\n",
    "1. не входить $0$;\n",
    "2. не входить $1$;\n",
    "3. не входить нi $0$, нi $1$;\n",
    "4. не входить або $0$, або $1$.\n",
    "\n",
    "Напишіть відповідні функції для обрахунку теоретичної (повним перебором) та еміричної (симулюванням $100000$ експериментів) імовірностей в залежності від параметра $k$.\n",
    "Виведіть результат для\n",
    "- $k = 5$;\n",
    "- $k = 10$."
   ]
  },
  {
   "cell_type": "code",
   "execution_count": 7,
   "metadata": {},
   "outputs": [
    {
     "name": "stdout",
     "output_type": "stream",
     "text": [
      "k = 5, teoretical = [0.59049, 0.59049, 0.32768, 0.52562], empirical = [0.58993, 0.58962, 0.32585, 0.52785]\n",
      "k = 8, teoretical = [0.43046721, 0.43046721, 0.16777216, 0.5253901], empirical = [0.43099, 0.43166, 0.16864, 0.52537]\n"
     ]
    }
   ],
   "source": [
    "# Місце для Вашого коду\n",
    "\n",
    "import numpy as np\n",
    "from itertools import product\n",
    "\n",
    "\n",
    "def teor(k):\n",
    "    res = [0, 0, 0, 0]\n",
    "    for el in product(range(10), repeat=k):\n",
    "        \n",
    "        if 0 not in el:\n",
    "            res[0] += 1\n",
    "        if 1 not in el:\n",
    "            res[1] += 1\n",
    "        if 0 not in el and 1 not in el:\n",
    "            res[2] += 1\n",
    "        if (0 not in el) ^ (1 not in el):\n",
    "            res[3] += 1\n",
    "    return list(map(lambda a: a / 10 ** k, res))\n",
    "\n",
    "\n",
    "def practice(k):\n",
    "    \n",
    "    res = [0, 0, 0, 0]\n",
    "    for sim in range(100000):\n",
    "        el = np.random.choice(range(10), k)\n",
    "        if 0 not in el:\n",
    "            res[0] += 1\n",
    "        if 1 not in el:\n",
    "            res[1] += 1\n",
    "        if 0 not in el and 1 not in el:\n",
    "            res[2] += 1\n",
    "        if (0 not in el) ^ (1 not in el):\n",
    "            res[3] += 1\n",
    "    return list(map(lambda a: a / 100000, res))\n",
    "    \n",
    "\n",
    "for k in [5, 8]:\n",
    "    print('k = {}, teoretical = {}, empirical = {}'.format(k, teor(k), practice(k)))\n"
   ]
  },
  {
   "cell_type": "markdown",
   "metadata": {},
   "source": [
    "## 2 Задача 1.3.20\n",
    "Гральний кубик пiдкидають шiсть разiв.\n",
    "Знайти ймовiрнiсть того, що:\n",
    "1. випадуть всi шiсть граней;\n",
    "2. випадуть хоча б двi однаковi гранi;\n",
    "3. випадуть тiльки три рiзнi гранi.\n",
    "\n",
    "Обчисліть теоретичну (повним перебором) та еміричну (симулюванням $100000$ експериментів) імовірності."
   ]
  },
  {
   "cell_type": "code",
   "execution_count": 8,
   "metadata": {},
   "outputs": [
    {
     "name": "stdout",
     "output_type": "stream",
     "text": [
      "teoretical: [0.015432098765432098, 0.9845679012345679, 0.23148148148148148]\n",
      "empirical: [0.01596, 0.98404, 0.23021]\n"
     ]
    }
   ],
   "source": [
    "# Місце для Вашого коду\n",
    "\n",
    "def teor(n):\n",
    "    res = [0, 0, 0]\n",
    "    for el in product(range(1, 7), repeat=n):\n",
    "        if len(set(el)) == len(el):\n",
    "            res[0] += 1\n",
    "        else:\n",
    "            res[1] += 1\n",
    "        if len(set(el)) == 3:\n",
    "            res[2] += 1\n",
    "    return list(map(lambda a: a / 6 ** n, res))\n",
    "\n",
    "\n",
    "def practice(n):\n",
    "    res = [0, 0, 0]\n",
    "    for sim in range(100000):\n",
    "        el = np.random.choice(range(1, 7), n)\n",
    "        if len(set(el)) == len(el):\n",
    "            res[0] += 1\n",
    "        else:\n",
    "            res[1] += 1\n",
    "        if len(set(el)) == 3:\n",
    "            res[2] += 1\n",
    "    return list(map(lambda a: a / 100000, res))\n",
    "\n",
    "\n",
    "print(\"teoretical: {}\\nempirical: {}\".format(teor(6), practice(6)))"
   ]
  },
  {
   "cell_type": "markdown",
   "metadata": {},
   "source": [
    "## 3 Задача 1.4.7\n",
    "В класi $35$ учнiв: $20$ дiвчаток та $15$ хлопчикiв.\n",
    "Вирiшено за допомогою жеребу розподiлити серед учнiв чотири квитки в театр.\n",
    "Яка ймовiрнiсть, що квитки отримають:\n",
    "1. чотири дiвчинки;\n",
    "2. два хлопчики та двi дiвчинки?\n",
    "\n",
    "Обчисліть теоретичну (повним перебором) та еміричну (симулюванням $100000$ експериментів) імовірності."
   ]
  },
  {
   "cell_type": "code",
   "execution_count": 25,
   "metadata": {},
   "outputs": [
    {
     "name": "stdout",
     "output_type": "stream",
     "text": [
      "teoretical: 0.09253246753246754 0.3810160427807487\n",
      "practical: 0.09184 0.38366\n"
     ]
    }
   ],
   "source": [
    "# Місце для Вашого коду\n",
    "\n",
    "from itertools import permutations, combinations\n",
    "from collections import Counter\n",
    "\n",
    "\n",
    "classroom = ['a{}'.format(i) for i in range(20)] + ['b{}'.format(i) for i in range(15)]\n",
    "\n",
    "res = [0, 0]\n",
    "count = 0\n",
    "for el in combinations(classroom, 4):\n",
    "    count += 1\n",
    "    tmp = list(map(lambda a: a[0], el))\n",
    "    if len(set(tmp)) == 1 and tmp[0] == 'a':\n",
    "        res[0] += 1\n",
    "    tmp2 = Counter(tmp)\n",
    "    if tmp2['a'] == 2:\n",
    "        res[1] += 1\n",
    "print('teoretical:', res[0] / count, res[1] / count)\n",
    "\n",
    "\n",
    "res = [0, 0]\n",
    "for sim in range(100000):\n",
    "    tmp_el = classroom[:]\n",
    "    el = []\n",
    "    for i in range(4):\n",
    "        _ = np.random.choice(tmp_el)\n",
    "        el += [_]\n",
    "        tmp_el.remove(_)\n",
    "    \n",
    "    tmp = list(map(lambda a: a[0], el))\n",
    "    if len(set(tmp)) == 1 and tmp[0] == 'a':\n",
    "        res[0] += 1\n",
    "    tmp2 = Counter(tmp)\n",
    "    if tmp2['a'] == 2:\n",
    "        res[1] += 1\n",
    "\n",
    "print('practical:', res[0] / 100000, res[1] / 100000)"
   ]
  },
  {
   "cell_type": "markdown",
   "metadata": {},
   "source": [
    "## 4 Задача 1.4.8\n",
    "В урнi мiститься двi бiлих та чотири чорних кулi.\n",
    "З урни одну за одною виймають всi кулi.\n",
    "Знайти ймовiрнiсть того, що вийнята останньою куля буде бiлою.\n",
    "\n",
    "Обчисліть теоретичну (повним перебором) та еміричну (симулюванням $100000$ експериментів) імовірності."
   ]
  },
  {
   "cell_type": "code",
   "execution_count": 20,
   "metadata": {},
   "outputs": [
    {
     "name": "stdout",
     "output_type": "stream",
     "text": [
      "teoretical: 0.3333333333333333\n",
      "empirical: 0.33304\n"
     ]
    }
   ],
   "source": [
    "# Місце для Вашого коду\n",
    "\n",
    "space = ['w1', 'w2', 'b1', 'b2', 'b3', 'b4']\n",
    "\n",
    "res = 0\n",
    "count = 0\n",
    "for el in permutations(space):\n",
    "    count += 1\n",
    "    if el[-1][0] == 'w':\n",
    "        res += 1\n",
    "print('teoretical:', res / count)\n",
    "\n",
    "res = 0\n",
    "for sim in range(100000):\n",
    "    el = space[:]\n",
    "    np.random.shuffle(el)\n",
    "    count += 1\n",
    "    if el[-1][0] == 'w':\n",
    "        res += 1\n",
    "print('empirical:', res / 100000)\n"
   ]
  },
  {
   "cell_type": "markdown",
   "metadata": {},
   "source": [
    "## 5 Задача 1.4.15\n",
    "Колода з $52$ гральних карт ретельно тасується, пiсля чого одна за одною вiдкриваються верхнi карти до появи першого туза.\n",
    "Яка ймовiрнiсть того, що:\n",
    "1. першим тузом виявиться п’ята карта;\n",
    "2. першим тузом виявиться $k$-а карта;\n",
    "3. перший туз зустрiнеться не пiзнiше $k$-ої карти?\n",
    "\n",
    "Напишіть функцію для обрахунку еміричної (симулюванням $100000$ експериментів) імовірності в залежності від параметра $k$.\n",
    "Виведіть результат (пункти $2.$ та $3.$) для\n",
    "- $k = 5$;\n",
    "- $k = 8$;\n",
    "- $k = 10$."
   ]
  },
  {
   "cell_type": "code",
   "execution_count": 24,
   "metadata": {},
   "outputs": [
    {
     "name": "stdout",
     "output_type": "stream",
     "text": [
      "k = 5, res (2, 3): (0.07237, 0.65391)\n",
      "k = 8, res (2, 3): (0.04372, 0.80914)\n",
      "k = 10, res (2, 3): (0.02873, 0.87383)\n"
     ]
    }
   ],
   "source": [
    "# Місце для Вашого коду\n",
    "\n",
    "Ranks = {'1', '2', '3', '4', '5', '6', '7', '8', '9', '10', 'J', 'Q', 'K'}\n",
    "Suits = {'♢', '♠', '♣', '♡'}\n",
    "\n",
    "space = [tmp1 + tmp2 for tmp1 in Ranks for tmp2 in Suits]\n",
    "n = len(space)\n",
    "\n",
    "\n",
    "def practice(k):\n",
    "    res = [0, 0]\n",
    "    for sim in range(100000):\n",
    "        tmp_space = space[:]\n",
    "        np.random.shuffle(tmp_space)\n",
    "        if '1' in list(map(lambda a: a[0], tmp_space[n - k - 1:])):\n",
    "            res[1] += 1\n",
    "        if '1' == tmp_space[n-k-1][0] and '1' not in list(map(lambda a: a[0], tmp_space[n-k:])):\n",
    "            res[0] += 1\n",
    "    return res[0] / 100000, res[1] / 100000\n",
    "\n",
    "\n",
    "for k in [5, 8, 10]:\n",
    "    print('k = {}, res (2, 3): {}'.format(k, practice(k)))"
   ]
  }
 ],
 "metadata": {
  "kernelspec": {
   "display_name": "Python 3",
   "language": "python",
   "name": "python3"
  },
  "language_info": {
   "codemirror_mode": {
    "name": "ipython",
    "version": 3
   },
   "file_extension": ".py",
   "mimetype": "text/x-python",
   "name": "python",
   "nbconvert_exporter": "python",
   "pygments_lexer": "ipython3",
   "version": "3.6.7"
  }
 },
 "nbformat": 4,
 "nbformat_minor": 1
}
