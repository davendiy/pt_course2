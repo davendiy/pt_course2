{
 "cells": [
  {
   "cell_type": "markdown",
   "metadata": {},
   "source": [
    "# Додаткові завдання №2"
   ]
  },
  {
   "cell_type": "markdown",
   "metadata": {},
   "source": [
    "## 1 Візуалізація емпіричної імовірності\n",
    "Побудуйте графік залежності емпіричної імовірності випадіння герба (HEAD) від кількості підкидань чесної монети (симуляцій).\n",
    "\n",
    "**Зауваження.** Завдання передбачає використання бібліотеки [Matplotlib](https://matplotlib.org/)."
   ]
  },
  {
   "cell_type": "code",
   "execution_count": 15,
   "metadata": {},
   "outputs": [
    {
     "name": "stderr",
     "output_type": "stream",
     "text": [
      "/usr/lib/python3/dist-packages/ipykernel_launcher.py:9: RuntimeWarning: invalid value encountered in long_scalars\n",
      "  if __name__ == '__main__':\n"
     ]
    },
    {
     "data": {
      "image/png": "[encoded data removed]",
      "text/plain": [
       "<Figure size 432x288 with 1 Axes>"
      ]
     },
     "metadata": {},
     "output_type": "display_data"
    }
   ],
   "source": [
    "# Місце для Вашого коду\n",
    "\n",
    "import matplotlib.pyplot as plt\n",
    "import numpy as np\n",
    "\n",
    "\n",
    "def simulation(n):\n",
    "    count = [np.random.randint(0, 2) for _ in range(n)].count(1)\n",
    "    return count / n\n",
    "\n",
    "             \n",
    "x_array = np.arange(0, 10000, 1)\n",
    "y_array = np.array(list(map(simulation, x_array)))\n",
    "\n",
    "plt.plot(x_array, y_array)\n",
    "plt.xlabel('amount of simulation')\n",
    "plt.ylabel('empiric probability')\n",
    "plt.show()\n"
   ]
  },
  {
   "cell_type": "markdown",
   "metadata": {},
   "source": [
    "## 2 Найбільше число\n",
    "Реалізуйте функцію підрахунку точної (теоретичної) імовірності того, що максимальне число після $n$ кидків різних гральних кубиків із кількістю сторін $f = \\{ f_i \\}_{i = 1}^{n}$ дорівнює $x\\_max$, для таких параметрів:\n",
    "- $f = \\{ 2, 5, 8 \\}, x\\_max = 8$\n",
    "- $f = \\{ 3, 4 \\}, x\\_max = 2$\n",
    "- $f = \\{ 2, 5, 7, 3 \\}, x\\_max = 3$\n",
    "\n",
    "Тобто, якщо $X_i, i = 1, \\ldots, n$, - число на $i$-му кидку кубика, а $X = \\max\\limits_{1 \\leq i \\leq n} X_i$, то потрібно знайти ймовірність $\\textbf{P} \\left( X = x\\_max \\right)$.\n",
    "\n",
    "Підрахуйте також емпіричні ймовірності відповідних подій у випадку $10000$ симуляцій.\n",
    "\n",
    "**Зауваження.** Якщо введені параметри не мають сенсу, то повертати $0$.\n",
    "Наприклад, якщо при $f = \\{ 4, 8, 3 \\}$ вводиться $x\\_max < 1$ або $x\\_max > 8$."
   ]
  },
  {
   "cell_type": "code",
   "execution_count": 22,
   "metadata": {},
   "outputs": [
    {
     "name": "stdout",
     "output_type": "stream",
     "text": [
      "f = [2, 5, 8], x_max = 8, teoretical = 0.125, practical = 0.1243\n",
      "f = [3, 4], x_max = 2, teoretical = 0.25, practical = 0.249\n",
      "f = [2, 5, 7, 3], x_max = 3, teoretical = 0.18095238095238095, practical = 0.1856\n"
     ]
    }
   ],
   "source": [
    "# Місце для Вашого коду\n",
    "from itertools import product\n",
    "\n",
    "SIMULATIONS = 10000\n",
    "\n",
    "\n",
    "def teoretical(f, x_max):\n",
    "    if not (1 <= x_max <= max(f)):\n",
    "        return 0\n",
    "    \n",
    "    count = 0\n",
    "    n = 0\n",
    "    for el in product(*map(lambda n: range(1, n+1), f)):\n",
    "        n += 1\n",
    "        if max(el) == x_max:\n",
    "            count += 1\n",
    "    return count / n\n",
    "   \n",
    "    \n",
    "def empiric(f, x_max):\n",
    "    if not (1 <= x_max <= max(f)):\n",
    "        return 0\n",
    "    \n",
    "    def generate():\n",
    "        \"\"\" Additional function that generates result of the stochastic experiment\n",
    "        \"\"\"\n",
    "        return [np.random.choice(range(1, n+1)) for n in f]\n",
    "    \n",
    "    # a little bit of simple code)\n",
    "    count = len(list(filter(bool, [max(generate()) == x_max for _ in range(SIMULATIONS)])))\n",
    "    return count / SIMULATIONS\n",
    "\n",
    "\n",
    "for test_f, test_x_max in [([2, 5, 8], 8), ([3, 4], 2), ([2, 5, 7, 3], 3)]:\n",
    "    print('f = {}, x_max = {}, teoretical = {}, practical = {}'.format(test_f, \n",
    "                                                                       test_x_max,\n",
    "                                                                       teoretical(test_f, test_x_max),\n",
    "                                                                       empiric(test_f, test_x_max)))\n"
   ]
  },
  {
   "cell_type": "markdown",
   "metadata": {},
   "source": [
    "## 3 Сума чисел\n",
    "Реалізуйте функцію підрахунку точної (теоретичної) імовірності того, що сума чисел після $n$ кидків різних гральних кубиків із кількістю сторін $f = \\{ f_i \\}_{i = 1}^{n}$ дорівнює $s$, для таких параметрів:\n",
    "- $f = \\{ 3, 4, 5 \\}, s = 13$\n",
    "- $f = \\{ 2, 2 \\}, s = 3$\n",
    "- $f = \\{ 3, 4, 5 \\}, s = 7$\n",
    "\n",
    "Тобто, якщо $X_i, i = 1, \\ldots, n$, - число на $i$-му кидку кубика, а $X = \\sum\\limits_{i = 1}^{n} X_i$, то потрібно знайти ймовірність $\\textbf{P} \\left( X = s \\right)$.\n",
    "\n",
    "Підрахуйте також емпіричні ймовірності відповідних подій у випадку $10000$ симуляцій.\n",
    "\n",
    "**Зауваження.** Якщо введені параметри не мають сенсу, то повертати $0$.\n",
    "Наприклад, якщо при $f = \\{ 4, 6, 3 \\}$ вводиться $s < 3$ або $s > 13$."
   ]
  },
  {
   "cell_type": "code",
   "execution_count": 26,
   "metadata": {},
   "outputs": [
    {
     "name": "stdout",
     "output_type": "stream",
     "text": [
      "f = [3, 4, 5], s = 13, teoretical = 0, practical = 0\n",
      "f = [2, 2], s = 3, teoretical = 0.5, practical = 0.5017\n",
      "f = [3, 4, 5], s = 7, teoretical = 0.18333333333333332, practical = 0.1825\n"
     ]
    }
   ],
   "source": [
    "# Місце для Вашого коду\n",
    "\n",
    "def teoretical(f, s):\n",
    "    if not (len(f) <= s <= sum(f)):\n",
    "        return 0\n",
    "    count = 0\n",
    "    n = 0\n",
    "    for el in product(*map(lambda n: range(1, n+1), f)):\n",
    "        n += 1\n",
    "        if sum(el) == s:\n",
    "            count += 1\n",
    "    return count / n\n",
    "   \n",
    "    \n",
    "def empiric(f, s):\n",
    "    if not (len(f) <= s <= sum(f)):\n",
    "        return 0\n",
    "    \n",
    "    def generate():\n",
    "        \"\"\" Additional function that generates result of the stochastic experiment\n",
    "        \"\"\"\n",
    "        return [np.random.choice(range(1, n+1)) for n in f]\n",
    "    \n",
    "    # a little bit of simple code)\n",
    "    count = len(list(filter(bool, [sum(generate()) == s for _ in range(SIMULATIONS)])))\n",
    "    return count / SIMULATIONS\n",
    "\n",
    "for test_f, test_s in [([3, 4, 5], 13), ([2, 2], 3), ([3, 4, 5], 7)]:\n",
    "    print('f = {}, s = {}, teoretical = {}, practical = {}'.format(test_f, \n",
    "                                                                   test_s,\n",
    "                                                                   teoretical(test_f, test_s),\n",
    "                                                                   empiric(test_f, test_s)))\n"
   ]
  }
 ],
 "metadata": {
  "kernelspec": {
   "display_name": "Python 3",
   "language": "python",
   "name": "python3"
  },
  "language_info": {
   "codemirror_mode": {
    "name": "ipython",
    "version": 3
   },
   "file_extension": ".py",
   "mimetype": "text/x-python",
   "name": "python",
   "nbconvert_exporter": "python",
   "pygments_lexer": "ipython3",
   "version": "3.6.7"
  }
 },
 "nbformat": 4,
 "nbformat_minor": 1
}
