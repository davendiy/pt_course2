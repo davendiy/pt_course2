{
 "cells": [
  {
   "cell_type": "markdown",
   "metadata": {},
   "source": [
    "# Лабораторне заняття №1"
   ]
  },
  {
   "cell_type": "markdown",
   "metadata": {},
   "source": [
    "## 1 Перестановки"
   ]
  },
  {
   "cell_type": "markdown",
   "metadata": {},
   "source": [
    "### 1.1 Використовуючи власну функцію"
   ]
  },
  {
   "cell_type": "code",
   "execution_count": 1,
   "metadata": {},
   "outputs": [],
   "source": [
    "def permute(A):\n",
    "    if len(A)==1:\n",
    "        return [tuple(A)]\n",
    "    permutations = []\n",
    "    for x in A:\n",
    "        for y in permute(A-{x}):\n",
    "            permutations.append((x,)+y)\n",
    "    return permutations"
   ]
  },
  {
   "cell_type": "code",
   "execution_count": 2,
   "metadata": {},
   "outputs": [],
   "source": [
    "A = {1, 2, 3}"
   ]
  },
  {
   "cell_type": "code",
   "execution_count": 3,
   "metadata": {},
   "outputs": [
    {
     "name": "stdout",
     "output_type": "stream",
     "text": [
      "Перестановки множини {1, 2, 3}: {(3, 1, 2), (1, 3, 2), (3, 2, 1), (2, 3, 1), (1, 2, 3), (2, 1, 3)}\n",
      "Кількість перестановок:  6\n"
     ]
    }
   ],
   "source": [
    "# Використовуючи власну функцію\n",
    "permute_all = set(permute(A))\n",
    "print(\"Перестановки множини {}: {}\".format(A,permute_all))\n",
    "print(\"Кількість перестановок: \", len(permute_all))"
   ]
  },
  {
   "cell_type": "markdown",
   "metadata": {},
   "source": [
    "### 1.2 Використовуючи бібліотеку `itertools`"
   ]
  },
  {
   "cell_type": "code",
   "execution_count": 4,
   "metadata": {},
   "outputs": [],
   "source": [
    "from itertools import permutations"
   ]
  },
  {
   "cell_type": "code",
   "execution_count": 5,
   "metadata": {},
   "outputs": [],
   "source": [
    "A = {1, 2, 3}"
   ]
  },
  {
   "cell_type": "code",
   "execution_count": 6,
   "metadata": {},
   "outputs": [
    {
     "name": "stdout",
     "output_type": "stream",
     "text": [
      "Перестановки множини {1, 2, 3}: {(3, 1, 2), (1, 3, 2), (3, 2, 1), (2, 3, 1), (1, 2, 3), (2, 1, 3)}\n",
      "Кількість перестановок:  6\n"
     ]
    }
   ],
   "source": [
    "# Використовуючи бібліотеку itertools\n",
    "permute_all = set(permutations(A))\n",
    "print(\"Перестановки множини {}: {}\".format(A,permute_all))\n",
    "print(\"Кількість перестановок: \", len(permute_all))"
   ]
  },
  {
   "cell_type": "markdown",
   "metadata": {},
   "source": [
    "### 1.3 Задача\n",
    "Виведіть всі можливі перестановки та порахуйте їх кількість від таких множин:\n",
    "- {1, 3, 5}\n",
    "- {1, 2, 3, 4}\n",
    "- {1, 2, 2, 1}\n",
    "\n",
    "Порахуйте кількість перестановок таких множин:\n",
    "- {1, 2, 3, 4, 5}\n",
    "- {1, 2, 3, 4, 5, 6, 7}\n",
    "- {1, 3, 5, 7, 9, 11, 13, 15, 17, 19}\n",
    "\n",
    "**Зауваження.** Спробуйте задати множину $\\{1, 2, 2, 1\\}$ у вигляді списку, тобто $A = [1, 2, 2, 1]$."
   ]
  },
  {
   "cell_type": "code",
   "execution_count": 10,
   "metadata": {},
   "outputs": [
    {
     "name": "stdout",
     "output_type": "stream",
     "text": [
      "\n",
      "all possible permutations for [1, 3, 5]:\n",
      "{(3, 5, 1), (5, 3, 1), (1, 5, 3), (3, 1, 5), (1, 3, 5), (5, 1, 3)}\n",
      "amount = 6\n",
      "\n",
      "all possible permutations for [1, 2, 3, 4]:\n",
      "{(4, 1, 2, 3), (1, 3, 2, 4), (3, 4, 1, 2), (1, 4, 2, 3), (4, 2, 3, 1), (2, 4, 1, 3), (4, 3, 1, 2), (2, 1, 3, 4), (3, 1, 4, 2), (3, 2, 4, 1), (1, 3, 4, 2), (1, 2, 4, 3), (2, 4, 3, 1), (3, 1, 2, 4), (4, 1, 3, 2), (2, 3, 1, 4), (4, 2, 1, 3), (1, 2, 3, 4), (1, 4, 3, 2), (3, 4, 2, 1), (2, 3, 4, 1), (4, 3, 2, 1), (3, 2, 1, 4), (2, 1, 4, 3)}\n",
      "amount = 24\n",
      "\n",
      "all possible permutations for [1, 2, 2, 1]:\n",
      "{(1, 2, 1, 2), (1, 1, 2, 2), (2, 1, 2, 1), (2, 2, 1, 1), (2, 1, 1, 2), (1, 2, 2, 1)}\n",
      "amount = 6\n",
      "\n",
      "amount of all possible pernutations for [1, 2, 3, 4, 5]: 120\n",
      "\n",
      "amount of all possible pernutations for [1, 2, 3, 4, 5, 6, 7]: 5040\n",
      "\n",
      "amount of all possible pernutations for [1, 3, 5, 7, 9, 11, 13, 15, 17, 19]: 3628800\n"
     ]
    }
   ],
   "source": [
    "# Місце для Вашого коду\n",
    "\n",
    "for tmp in [[1, 3, 5], \n",
    "            [1, 2, 3, 4], \n",
    "            [1, 2, 2, 1],]:\n",
    "    perms = set(permutations(tmp))\n",
    "    print(\"\\nall possible permutations for {}:\".format(tmp))\n",
    "    print(perms)\n",
    "    print(\"amount =\", len(perms))\n",
    "\n",
    "for tmp in [[1, 2, 3, 4, 5], \n",
    "            [1, 2, 3, 4, 5, 6, 7], \n",
    "            [1, 3, 5, 7, 9, 11, 13, 15, 17, 19]]:\n",
    "    print(\"\\namount of all possible pernutations for {}: {}\".format(tmp, len(set(permutations(tmp)))))\n"
   ]
  },
  {
   "cell_type": "markdown",
   "metadata": {},
   "source": [
    "### 1.4 Задача\n",
    "Виведіть всі можливі перестановки без нерухомих точок та порахуйте їх кількість від таких множин:\n",
    "- {1, 2, 3}\n",
    "- {1, 2, 3, 4}\n",
    "- {1, 3, 5, 7}\n",
    "- {1, 2, 2, 1}\n",
    "\n",
    "_Перестановка без нерухомих точок_ - це така перестановка, в якій позиція кожного елементу не збігається з його позицією в початковій множині.\n",
    "**Приклад.** Для множини {1, 2, 3, 4, 5}:\n",
    "- {4, 1, 5, 2, 3} - перестановка без нерухомих точок\n",
    "- {4, **2**, 1, 3, **5**} - перестановка з нерухомими точками"
   ]
  },
  {
   "cell_type": "code",
   "execution_count": 12,
   "metadata": {},
   "outputs": [
    {
     "name": "stdout",
     "output_type": "stream",
     "text": [
      "all possible permutations for [1, 2, 3] without fixed points: \n",
      "(2, 3, 1)\n",
      "(3, 1, 2)\n",
      "all possible permutations for [1, 2, 3, 4] without fixed points: \n",
      "(2, 1, 4, 3)\n",
      "(2, 3, 4, 1)\n",
      "(2, 4, 1, 3)\n",
      "(3, 1, 4, 2)\n",
      "(3, 4, 1, 2)\n",
      "(3, 4, 2, 1)\n",
      "(4, 1, 2, 3)\n",
      "(4, 3, 1, 2)\n",
      "(4, 3, 2, 1)\n",
      "all possible permutations for [1, 3, 5, 7] without fixed points: \n",
      "(3, 1, 7, 5)\n",
      "(3, 5, 7, 1)\n",
      "(3, 7, 1, 5)\n",
      "(5, 1, 7, 3)\n",
      "(5, 7, 1, 3)\n",
      "(5, 7, 3, 1)\n",
      "(7, 1, 3, 5)\n",
      "(7, 5, 1, 3)\n",
      "(7, 5, 3, 1)\n",
      "all possible permutations for [1, 2, 2, 1] without fixed points: \n",
      "(2, 1, 1, 2)\n"
     ]
    }
   ],
   "source": [
    "# Місце для Вашого коду\n",
    "for tmp in [[1, 2, 3], \n",
    "            [1, 2, 3, 4],\n",
    "            [1, 3, 5, 7], \n",
    "            [1, 2, 2, 1]]:\n",
    "    used = set()\n",
    "    print(\"all possible permutations for {} without fixed points: \".format(tmp))\n",
    "    for el in permutations(tmp):\n",
    "        if el in used:\n",
    "            continue\n",
    "        else:\n",
    "            used.add(el)\n",
    "            flag = True\n",
    "            for compare in zip(tmp, el):\n",
    "                if compare[0] == compare[1]:\n",
    "                    flag = False\n",
    "                    break\n",
    "            if flag: \n",
    "                print(el)\n",
    "\n"
   ]
  },
  {
   "cell_type": "markdown",
   "metadata": {},
   "source": [
    "### 1.5 Задача\n",
    "Виведіть всі можливі перестановки, в яких перші $4$ елементи зростають, а наступні спадають, та порахуйте їх кількість від таких множин:\n",
    "- {1, 2, 3, 4, 5, 6, 7, 8}\n",
    "- {1, 2, 3, 4, 5, 6, 7, 8, 9, 10}\n",
    "\n",
    "**Зауваження.** Нехай перестановка\n",
    "$\\pi = \\left( \\sigma_1, \\sigma_2, \\sigma_3, \\sigma_4, \\sigma_5, \\sigma_6, \\sigma_7, \\sigma_8 \\right)$.\n",
    "Тоді має виконуватися така умова:\n",
    "$$\n",
    "  \\sigma_1 < \\sigma_2 < \\sigma_3 < \\sigma_4 > \\sigma_5 > \\sigma_6 > \\sigma_7 > \\sigma_8.\n",
    "$$"
   ]
  },
  {
   "cell_type": "code",
   "execution_count": 14,
   "metadata": {},
   "outputs": [
    {
     "name": "stdout",
     "output_type": "stream",
     "text": [
      "\n",
      "all possible permutaions for {} where the first 4 elements increase and other decrease:\n",
      "(1, 2, 3, 8, 7, 6, 5, 4)\n",
      "(1, 2, 4, 8, 7, 6, 5, 3)\n",
      "(1, 2, 5, 8, 7, 6, 4, 3)\n",
      "(1, 2, 6, 8, 7, 5, 4, 3)\n",
      "(1, 2, 7, 8, 6, 5, 4, 3)\n",
      "(1, 3, 4, 8, 7, 6, 5, 2)\n",
      "(1, 3, 5, 8, 7, 6, 4, 2)\n",
      "(1, 3, 6, 8, 7, 5, 4, 2)\n",
      "(1, 3, 7, 8, 6, 5, 4, 2)\n",
      "(1, 4, 5, 8, 7, 6, 3, 2)\n",
      "(1, 4, 6, 8, 7, 5, 3, 2)\n",
      "(1, 4, 7, 8, 6, 5, 3, 2)\n",
      "(1, 5, 6, 8, 7, 4, 3, 2)\n",
      "(1, 5, 7, 8, 6, 4, 3, 2)\n",
      "(1, 6, 7, 8, 5, 4, 3, 2)\n",
      "(2, 3, 4, 8, 7, 6, 5, 1)\n",
      "(2, 3, 5, 8, 7, 6, 4, 1)\n",
      "(2, 3, 6, 8, 7, 5, 4, 1)\n",
      "(2, 3, 7, 8, 6, 5, 4, 1)\n",
      "(2, 4, 5, 8, 7, 6, 3, 1)\n",
      "(2, 4, 6, 8, 7, 5, 3, 1)\n",
      "(2, 4, 7, 8, 6, 5, 3, 1)\n",
      "(2, 5, 6, 8, 7, 4, 3, 1)\n",
      "(2, 5, 7, 8, 6, 4, 3, 1)\n",
      "(2, 6, 7, 8, 5, 4, 3, 1)\n",
      "(3, 4, 5, 8, 7, 6, 2, 1)\n",
      "(3, 4, 6, 8, 7, 5, 2, 1)\n",
      "(3, 4, 7, 8, 6, 5, 2, 1)\n",
      "(3, 5, 6, 8, 7, 4, 2, 1)\n",
      "(3, 5, 7, 8, 6, 4, 2, 1)\n",
      "(3, 6, 7, 8, 5, 4, 2, 1)\n",
      "(4, 5, 6, 8, 7, 3, 2, 1)\n",
      "(4, 5, 7, 8, 6, 3, 2, 1)\n",
      "(4, 6, 7, 8, 5, 3, 2, 1)\n",
      "(5, 6, 7, 8, 4, 3, 2, 1)\n",
      "amount: 35\n",
      "\n",
      "all possible permutaions for {} where the first 4 elements increase and other decrease:\n",
      "(1, 2, 3, 10, 9, 8, 7, 6, 5, 4)\n",
      "(1, 2, 4, 10, 9, 8, 7, 6, 5, 3)\n",
      "(1, 2, 5, 10, 9, 8, 7, 6, 4, 3)\n",
      "(1, 2, 6, 10, 9, 8, 7, 5, 4, 3)\n",
      "(1, 2, 7, 10, 9, 8, 6, 5, 4, 3)\n",
      "(1, 2, 8, 10, 9, 7, 6, 5, 4, 3)\n",
      "(1, 2, 9, 10, 8, 7, 6, 5, 4, 3)\n",
      "(1, 3, 4, 10, 9, 8, 7, 6, 5, 2)\n",
      "(1, 3, 5, 10, 9, 8, 7, 6, 4, 2)\n",
      "(1, 3, 6, 10, 9, 8, 7, 5, 4, 2)\n",
      "(1, 3, 7, 10, 9, 8, 6, 5, 4, 2)\n",
      "(1, 3, 8, 10, 9, 7, 6, 5, 4, 2)\n",
      "(1, 3, 9, 10, 8, 7, 6, 5, 4, 2)\n",
      "(1, 4, 5, 10, 9, 8, 7, 6, 3, 2)\n",
      "(1, 4, 6, 10, 9, 8, 7, 5, 3, 2)\n",
      "(1, 4, 7, 10, 9, 8, 6, 5, 3, 2)\n",
      "(1, 4, 8, 10, 9, 7, 6, 5, 3, 2)\n",
      "(1, 4, 9, 10, 8, 7, 6, 5, 3, 2)\n",
      "(1, 5, 6, 10, 9, 8, 7, 4, 3, 2)\n",
      "(1, 5, 7, 10, 9, 8, 6, 4, 3, 2)\n",
      "(1, 5, 8, 10, 9, 7, 6, 4, 3, 2)\n",
      "(1, 5, 9, 10, 8, 7, 6, 4, 3, 2)\n",
      "(1, 6, 7, 10, 9, 8, 5, 4, 3, 2)\n",
      "(1, 6, 8, 10, 9, 7, 5, 4, 3, 2)\n",
      "(1, 6, 9, 10, 8, 7, 5, 4, 3, 2)\n",
      "(1, 7, 8, 10, 9, 6, 5, 4, 3, 2)\n",
      "(1, 7, 9, 10, 8, 6, 5, 4, 3, 2)\n",
      "(1, 8, 9, 10, 7, 6, 5, 4, 3, 2)\n",
      "(2, 3, 4, 10, 9, 8, 7, 6, 5, 1)\n",
      "(2, 3, 5, 10, 9, 8, 7, 6, 4, 1)\n",
      "(2, 3, 6, 10, 9, 8, 7, 5, 4, 1)\n",
      "(2, 3, 7, 10, 9, 8, 6, 5, 4, 1)\n",
      "(2, 3, 8, 10, 9, 7, 6, 5, 4, 1)\n",
      "(2, 3, 9, 10, 8, 7, 6, 5, 4, 1)\n",
      "(2, 4, 5, 10, 9, 8, 7, 6, 3, 1)\n",
      "(2, 4, 6, 10, 9, 8, 7, 5, 3, 1)\n",
      "(2, 4, 7, 10, 9, 8, 6, 5, 3, 1)\n",
      "(2, 4, 8, 10, 9, 7, 6, 5, 3, 1)\n",
      "(2, 4, 9, 10, 8, 7, 6, 5, 3, 1)\n",
      "(2, 5, 6, 10, 9, 8, 7, 4, 3, 1)\n",
      "(2, 5, 7, 10, 9, 8, 6, 4, 3, 1)\n",
      "(2, 5, 8, 10, 9, 7, 6, 4, 3, 1)\n",
      "(2, 5, 9, 10, 8, 7, 6, 4, 3, 1)\n",
      "(2, 6, 7, 10, 9, 8, 5, 4, 3, 1)\n",
      "(2, 6, 8, 10, 9, 7, 5, 4, 3, 1)\n",
      "(2, 6, 9, 10, 8, 7, 5, 4, 3, 1)\n",
      "(2, 7, 8, 10, 9, 6, 5, 4, 3, 1)\n",
      "(2, 7, 9, 10, 8, 6, 5, 4, 3, 1)\n",
      "(2, 8, 9, 10, 7, 6, 5, 4, 3, 1)\n",
      "(3, 4, 5, 10, 9, 8, 7, 6, 2, 1)\n",
      "(3, 4, 6, 10, 9, 8, 7, 5, 2, 1)\n",
      "(3, 4, 7, 10, 9, 8, 6, 5, 2, 1)\n",
      "(3, 4, 8, 10, 9, 7, 6, 5, 2, 1)\n",
      "(3, 4, 9, 10, 8, 7, 6, 5, 2, 1)\n",
      "(3, 5, 6, 10, 9, 8, 7, 4, 2, 1)\n",
      "(3, 5, 7, 10, 9, 8, 6, 4, 2, 1)\n",
      "(3, 5, 8, 10, 9, 7, 6, 4, 2, 1)\n",
      "(3, 5, 9, 10, 8, 7, 6, 4, 2, 1)\n",
      "(3, 6, 7, 10, 9, 8, 5, 4, 2, 1)\n",
      "(3, 6, 8, 10, 9, 7, 5, 4, 2, 1)\n",
      "(3, 6, 9, 10, 8, 7, 5, 4, 2, 1)\n",
      "(3, 7, 8, 10, 9, 6, 5, 4, 2, 1)\n",
      "(3, 7, 9, 10, 8, 6, 5, 4, 2, 1)\n",
      "(3, 8, 9, 10, 7, 6, 5, 4, 2, 1)\n",
      "(4, 5, 6, 10, 9, 8, 7, 3, 2, 1)\n",
      "(4, 5, 7, 10, 9, 8, 6, 3, 2, 1)\n",
      "(4, 5, 8, 10, 9, 7, 6, 3, 2, 1)\n",
      "(4, 5, 9, 10, 8, 7, 6, 3, 2, 1)\n",
      "(4, 6, 7, 10, 9, 8, 5, 3, 2, 1)\n",
      "(4, 6, 8, 10, 9, 7, 5, 3, 2, 1)\n",
      "(4, 6, 9, 10, 8, 7, 5, 3, 2, 1)\n",
      "(4, 7, 8, 10, 9, 6, 5, 3, 2, 1)\n",
      "(4, 7, 9, 10, 8, 6, 5, 3, 2, 1)\n",
      "(4, 8, 9, 10, 7, 6, 5, 3, 2, 1)\n",
      "(5, 6, 7, 10, 9, 8, 4, 3, 2, 1)\n",
      "(5, 6, 8, 10, 9, 7, 4, 3, 2, 1)\n",
      "(5, 6, 9, 10, 8, 7, 4, 3, 2, 1)\n",
      "(5, 7, 8, 10, 9, 6, 4, 3, 2, 1)\n",
      "(5, 7, 9, 10, 8, 6, 4, 3, 2, 1)\n",
      "(5, 8, 9, 10, 7, 6, 4, 3, 2, 1)\n",
      "(6, 7, 8, 10, 9, 5, 4, 3, 2, 1)\n",
      "(6, 7, 9, 10, 8, 5, 4, 3, 2, 1)\n",
      "(6, 8, 9, 10, 7, 5, 4, 3, 2, 1)\n",
      "(7, 8, 9, 10, 6, 5, 4, 3, 2, 1)\n",
      "amount: 84\n"
     ]
    }
   ],
   "source": [
    "# Місце для Вашого коду\n",
    "for tmp in [[1, 2, 3, 4, 5, 6, 7, 8],\n",
    "            [1, 2, 3, 4, 5, 6, 7, 8, 9, 10]]:\n",
    "    print(\"\\nall possible permutaions for {} where the first 4 elements increase and other decrease:\")\n",
    "    j = 0\n",
    "    for el in permutations(tmp):\n",
    "        succ1 = True\n",
    "        succ2 = True\n",
    "        for i in range(3):\n",
    "            if el[i] > el[i+1]:\n",
    "                succ1 = False\n",
    "                break\n",
    "        for i in range(3, len(el)-1):\n",
    "            if el[i] < el[i+1]:\n",
    "                succ2 = False\n",
    "                break\n",
    "        if succ1 and succ2:\n",
    "            j += 1\n",
    "            print(el)\n",
    "    print(\"amount:\", j)"
   ]
  },
  {
   "cell_type": "markdown",
   "metadata": {},
   "source": [
    "## 2 Часткові перестановки"
   ]
  },
  {
   "cell_type": "markdown",
   "metadata": {},
   "source": [
    "### 2.1 Використовуючи бібліотеку `itertools`"
   ]
  },
  {
   "cell_type": "code",
   "execution_count": 12,
   "metadata": {
    "collapsed": true
   },
   "outputs": [],
   "source": [
    "A = {1, 2, 3}\n",
    "k = 2"
   ]
  },
  {
   "cell_type": "code",
   "execution_count": 14,
   "metadata": {},
   "outputs": [
    {
     "name": "stdout",
     "output_type": "stream",
     "text": [
      "Перестановки довжини 2 множини {1, 2, 3}: [(1, 2), (1, 3), (2, 1), (2, 3), (3, 1), (3, 2)]\n",
      "Кількість таких перестановок: 6\n"
     ]
    }
   ],
   "source": [
    "# перестановки довжини k множини A\n",
    "permute_k = list(permutations(A, k))\n",
    "print(\"Перестановки довжини {} множини {}: {}\".format(k,A,permute_k))\n",
    "print(\"Кількість таких перестановок: {}\".format(len(permute_k)))"
   ]
  },
  {
   "cell_type": "markdown",
   "metadata": {},
   "source": [
    "### 2.2 Задача\n",
    "Нехай $n$ - розмір множини, $k$ - розмір перестановок.\n",
    "Виведіть всі можливі часткові перестановки та порахуйте їх кількість для таких параметрів:\n",
    "- $n = 4, k = 2$\n",
    "- $n = 4, k = 3$\n",
    "- $n = 5, k = 2$\n",
    "\n",
    "Порахуйте кількість часткових перестановок для таких параметрів:\n",
    "- $n = 6, k = 2$\n",
    "- $n = 6, k = 4$\n",
    "- $n = 8, k = 4$"
   ]
  },
  {
   "cell_type": "code",
   "execution_count": 17,
   "metadata": {},
   "outputs": [
    {
     "name": "stdout",
     "output_type": "stream",
     "text": [
      "\n",
      "all possible permutaions of [1, 2, 3, 4] with 2 elements:\n",
      "{(1, 2), (3, 2), (1, 3), (4, 1), (3, 1), (2, 1), (1, 4), (2, 3), (4, 3), (4, 2), (3, 4), (2, 4)}\n",
      "amount = 12\n",
      "\n",
      "all possible permutaions of [1, 2, 3, 4] with 3 elements:\n",
      "{(1, 3, 2), (4, 3, 2), (3, 4, 1), (1, 4, 2), (2, 4, 1), (3, 4, 2), (2, 3, 1), (1, 4, 3), (4, 3, 1), (2, 4, 3), (3, 1, 4), (3, 1, 2), (3, 2, 1), (2, 1, 4), (1, 2, 3), (1, 2, 4), (4, 1, 2), (2, 1, 3), (3, 2, 4), (4, 1, 3), (4, 2, 1), (1, 3, 4), (2, 3, 4), (4, 2, 3)}\n",
      "amount = 24\n",
      "\n",
      "all possible permutaions of [1, 2, 3, 4, 5] with 2 elements:\n",
      "{(1, 2), (3, 2), (1, 3), (4, 1), (5, 1), (5, 4), (4, 5), (3, 1), (5, 2), (2, 1), (1, 4), (1, 5), (2, 3), (4, 3), (5, 3), (4, 2), (2, 5), (3, 4), (2, 4), (3, 5)}\n",
      "amount = 20\n",
      "\n",
      "amount of all possible permutaions of [1, 2, 3, 4, 5, 6] with 2 elements:\n",
      "30\n",
      "\n",
      "amount of all possible permutaions of [1, 2, 3, 4, 5, 6] with 4 elements:\n",
      "360\n",
      "\n",
      "amount of all possible permutaions of [1, 2, 3, 4, 5, 6, 7, 8] with 4 elements:\n",
      "1680\n"
     ]
    }
   ],
   "source": [
    "# Місце для Вашого коду\n",
    "for n, k in [(4, 2), (4, 3), (5, 2)]:\n",
    "    print(\"\\nall possible permutaions of {} with {} elements:\".format(list(range(1, n+1)), k))\n",
    "    tmp = set(permutations(range(1, n+1), k))\n",
    "    print(tmp)\n",
    "    print(\"amount =\", len(tmp))\n",
    "\n",
    "\n",
    "for n, k in [(6, 2), (6, 4), (8, 4)]:\n",
    "    print(\"\\namount of all possible permutaions of {} with {} elements:\".format(list(range(1, n+1)), k))\n",
    "    tmp = set(permutations(range(1, n+1), k))\n",
    "    print(len(tmp))\n"
   ]
  },
  {
   "cell_type": "markdown",
   "metadata": {},
   "source": [
    "## 3 Комбінації без повторень"
   ]
  },
  {
   "cell_type": "markdown",
   "metadata": {},
   "source": [
    "### 3.1 Використовуючи бібліотеку `itertools`"
   ]
  },
  {
   "cell_type": "code",
   "execution_count": 18,
   "metadata": {},
   "outputs": [],
   "source": [
    "from itertools import combinations"
   ]
  },
  {
   "cell_type": "code",
   "execution_count": 18,
   "metadata": {
    "collapsed": true
   },
   "outputs": [],
   "source": [
    "A = {1, 2, 3}\n",
    "k = 2"
   ]
  },
  {
   "cell_type": "code",
   "execution_count": 19,
   "metadata": {},
   "outputs": [
    {
     "name": "stdout",
     "output_type": "stream",
     "text": [
      "Комбінації довжини 2 множини {1, 2, 3}: [(1, 2), (1, 3), (2, 3)]\n",
      "Кількість таких комбінацій: 3\n"
     ]
    }
   ],
   "source": [
    "# комбінації довжини k множини A\n",
    "choose_k = list(combinations(A,k))\n",
    "print(\"Комбінації довжини {} множини {}: {}\".format(k,A,choose_k))\n",
    "print(\"Кількість таких комбінацій: {}\".format(len(choose_k)  ))"
   ]
  },
  {
   "cell_type": "markdown",
   "metadata": {},
   "source": [
    "### 3.2 Задача\n",
    "Нехай $n$ - розмір множини, $k$ - розмір комбінацій.\n",
    "Виведіть всі можливі комбінації без повторень та порахуйте їх кількість для таких параметрів:\n",
    "- $n = 4, k = 2$\n",
    "- $n = 4, k = 3$\n",
    "- $n = 5, k = 2$\n",
    "\n",
    "Порахуйте кількість комбінацій без повторень для таких параметрів:\n",
    "- $n = 6, k = 2$\n",
    "- $n = 6, k = 4$\n",
    "- $n = 8, k = 4$"
   ]
  },
  {
   "cell_type": "code",
   "execution_count": 19,
   "metadata": {},
   "outputs": [
    {
     "name": "stdout",
     "output_type": "stream",
     "text": [
      "\n",
      "all possible combinations of [1, 2, 3, 4] with 2 elements:\n",
      "{(1, 2), (1, 3), (1, 4), (2, 3), (3, 4), (2, 4)}\n",
      "amount = 6\n",
      "\n",
      "all possible combinations of [1, 2, 3, 4] with 3 elements:\n",
      "{(1, 3, 4), (2, 3, 4), (1, 2, 4), (1, 2, 3)}\n",
      "amount = 4\n",
      "\n",
      "all possible combinations of [1, 2, 3, 4, 5] with 2 elements:\n",
      "{(1, 2), (1, 3), (4, 5), (1, 4), (1, 5), (2, 3), (2, 5), (3, 4), (2, 4), (3, 5)}\n",
      "amount = 10\n",
      "\n",
      "amount of all possible combinations of [1, 2, 3, 4, 5, 6] with 2 elements:\n",
      "15\n",
      "\n",
      "amount of all possible combinations of [1, 2, 3, 4, 5, 6] with 4 elements:\n",
      "15\n",
      "\n",
      "amount of all possible combinations of [1, 2, 3, 4, 5, 6, 7, 8] with 4 elements:\n",
      "70\n"
     ]
    }
   ],
   "source": [
    "# Місце для Вашого коду\n",
    "for n, k in [(4, 2), (4, 3), (5, 2)]:\n",
    "    print(\"\\nall possible combinations of {} with {} elements:\".format(list(range(1, n+1)), k))\n",
    "    tmp = set(combinations(range(1, n+1), k))\n",
    "    print(tmp)\n",
    "    print(\"amount =\", len(tmp))\n",
    "\n",
    "\n",
    "for n, k in [(6, 2), (6, 4), (8, 4)]:\n",
    "    print(\"\\namount of all possible combinations of {} with {} elements:\".format(list(range(1, n+1)), k))\n",
    "    tmp = set(combinations(range(1, n+1), k))\n",
    "    print(len(tmp))\n"
   ]
  },
  {
   "cell_type": "markdown",
   "metadata": {},
   "source": [
    "### 3.3 Задача\n",
    "Нехай $A$ - множина з $10$ елементів, кожен з яких є цілим числом від $1$ до $25$.\n",
    "Тобто $$A = \\{ a_i \\}_{i = 1}^{10},\\\\ 1 \\leq a_i \\leq 25, \\quad i = 1, \\ldots, 10.$$\n",
    "Скільки елементів може бути в множині, яка складається із попарних сум елементів множини $A$?\n",
    "$$B = \\{ b_k \\, \\colon \\, b_k = a_i + a_j, \\quad a_i, a_j \\in A, \\, 1 \\leq i, j \\leq 10, \\, i \\neq j \\}_{k = 1}^{\\textbf{?}}$$"
   ]
  },
  {
   "cell_type": "code",
   "execution_count": 33,
   "metadata": {},
   "outputs": [
    {
     "name": "stdout",
     "output_type": "stream",
     "text": [
      "all posible amounts of all pairwise sums:\n",
      "{ 17 18 19 20 21 22 23 24 25 26 27 28 29 30 31 32 33 34 35 36 }\n"
     ]
    }
   ],
   "source": [
    "# Місце для Вашого коду\n",
    "\n",
    "print(\"all posible amounts of all pairwise sums:\")\n",
    "used = set()\n",
    "for tmp in permutations(range(1, 26), 10):\n",
    "    tmp = frozenset([tmp[i] + tmp[j] for i in range(10) for j in range(10) if i != j])\n",
    "    used.add(len(tmp))\n",
    "    \n",
    "print(used)"
   ]
  },
  {
   "cell_type": "markdown",
   "metadata": {},
   "source": [
    "## 4 Комбінації з повтореннями"
   ]
  },
  {
   "cell_type": "markdown",
   "metadata": {},
   "source": [
    "### 4.1 Використовуючи бібліотеку `itertools`"
   ]
  },
  {
   "cell_type": "code",
   "execution_count": 21,
   "metadata": {},
   "outputs": [],
   "source": [
    "from itertools import combinations_with_replacement"
   ]
  },
  {
   "cell_type": "code",
   "execution_count": 21,
   "metadata": {
    "collapsed": true
   },
   "outputs": [],
   "source": [
    "A = {1, 2, 3}\n",
    "k = 2"
   ]
  },
  {
   "cell_type": "code",
   "execution_count": 23,
   "metadata": {},
   "outputs": [
    {
     "name": "stdout",
     "output_type": "stream",
     "text": [
      "Комбінації довжини 2 множини {1, 2, 3}: [(1, 1), (1, 2), (1, 3), (2, 2), (2, 3), (3, 3)]\n",
      "Кількість таких комбінацій: 6\n"
     ]
    }
   ],
   "source": [
    "# комбінації довжини k множини A\n",
    "choose_k = list(combinations_with_replacement(A,k))\n",
    "print(\"Комбінації довжини {} множини {}: {}\".format(k,A,choose_k))\n",
    "print(\"Кількість таких комбінацій: {}\".format(len(choose_k)  ))"
   ]
  },
  {
   "cell_type": "markdown",
   "metadata": {},
   "source": [
    "### 4.2 Задача\n",
    "Нехай $n$ - розмір множини, $k$ - розмір комбінацій.\n",
    "Виведіть всі можливі комбінації з повтореннями та порахуйте їх кількість для таких параметрів:\n",
    "- $n = 4, k = 2$\n",
    "- $n = 4, k = 3$\n",
    "- $n = 5, k = 2$\n",
    "\n",
    "Порахуйте кількість комбінацій з повтореннями для таких параметрів:\n",
    "- $n = 6, k = 2$\n",
    "- $n = 6, k = 4$\n",
    "- $n = 8, k = 4$"
   ]
  },
  {
   "cell_type": "code",
   "execution_count": 22,
   "metadata": {},
   "outputs": [
    {
     "name": "stdout",
     "output_type": "stream",
     "text": [
      "\n",
      "all possible combinations with replacement of [1, 2, 3, 4] with 2 elements:\n",
      "{(1, 2), (1, 3), (3, 3), (4, 4), (1, 4), (2, 4), (2, 3), (2, 2), (3, 4), (1, 1)}\n",
      "amount = 10\n",
      "\n",
      "all possible combinations with replacement of [1, 2, 3, 4] with 3 elements:\n",
      "{(3, 3, 3), (2, 2, 2), (1, 1, 3), (1, 2, 2), (1, 4, 4), (2, 2, 4), (2, 3, 3), (2, 4, 4), (1, 1, 2), (1, 2, 3), (4, 4, 4), (3, 4, 4), (3, 3, 4), (1, 2, 4), (1, 3, 4), (2, 3, 4), (2, 2, 3), (1, 1, 1), (1, 1, 4), (1, 3, 3)}\n",
      "amount = 20\n",
      "\n",
      "all possible combinations with replacement of [1, 2, 3, 4, 5] with 2 elements:\n",
      "{(1, 2), (1, 3), (3, 3), (5, 5), (4, 5), (4, 4), (1, 4), (1, 5), (2, 4), (2, 3), (2, 2), (2, 5), (3, 4), (1, 1), (3, 5)}\n",
      "amount = 15\n",
      "\n",
      "amount of all possible combinations with replacement of [1, 2, 3, 4, 5, 6] with 2 elements:\n",
      "21\n",
      "\n",
      "amount of all possible combinations with replacement of [1, 2, 3, 4, 5, 6] with 4 elements:\n",
      "126\n",
      "\n",
      "amount of all possible combinations with replacement of [1, 2, 3, 4, 5, 6, 7, 8] with 4 elements:\n",
      "330\n"
     ]
    }
   ],
   "source": [
    "# Місце для Вашого коду\n",
    "\n",
    "for n, k in [(4, 2), (4, 3), (5, 2)]:\n",
    "    print(\"\\nall possible combinations with replacement of {} with {} elements:\".format(list(range(1, n+1)), k))\n",
    "    tmp = set(combinations_with_replacement(range(1, n+1), k))\n",
    "    print(tmp)\n",
    "    print(\"amount =\", len(tmp))\n",
    "\n",
    "\n",
    "for n, k in [(6, 2), (6, 4), (8, 4)]:\n",
    "    print(\"\\namount of all possible combinations with replacement of {} with {} elements:\".format(list(range(1, n+1)), k))\n",
    "    tmp = set(combinations_with_replacement(range(1, n+1), k))\n",
    "    print(len(tmp))\n",
    "\n"
   ]
  },
  {
   "cell_type": "markdown",
   "metadata": {},
   "source": [
    "### 4.3 Задача\n",
    "Скільки існує 6-цифрових наборів таких, що сума перших трьох цифр дорівнює сумі останніх трьох?\n",
    "\n",
    "**Зауваження 1.** В задачі фігурують 6-цифрові набори, а не числа. Тобто перша цифра може дорівнювати $0$.\n",
    "\n",
    "**Зауваження 2.** Задача передбачає використання функції\n",
    "[product](https://docs.python.org/3/library/itertools.html#itertools.product)."
   ]
  },
  {
   "cell_type": "code",
   "execution_count": 23,
   "metadata": {},
   "outputs": [
    {
     "name": "stdout",
     "output_type": "stream",
     "text": [
      "amount: 55252\n"
     ]
    }
   ],
   "source": [
    "# Місце для Вашого коду\n",
    "\n",
    "from itertools import product\n",
    "\n",
    "amount = 0\n",
    "for el in product(range(10), repeat=6):\n",
    "    if sum(el[:3]) == sum(el[3:]):\n",
    "        amount += 1\n",
    "print(\"amount:\", amount)"
   ]
  },
  {
   "cell_type": "markdown",
   "metadata": {},
   "source": [
    "### 4.4 Задача\n",
    "Скільки існує 6-цифрових чисел, в яких дві однакові цифри не стоять поряд?\n",
    "\n",
    "**Зауваження 1.** В задачі фігурують 6-цифрові числа, тобто перша цифра не може дорівнювати $0$.\n",
    "\n",
    "**Зауваження 2.** Задача передбачає використання функції\n",
    "[product](https://docs.python.org/3/library/itertools.html#itertools.product)."
   ]
  },
  {
   "cell_type": "code",
   "execution_count": 24,
   "metadata": {},
   "outputs": [
    {
     "name": "stdout",
     "output_type": "stream",
     "text": [
      "amount = 590490\n"
     ]
    }
   ],
   "source": [
    "# Місце для Вашого коду\n",
    "\n",
    "amount = 0\n",
    "for el in product(range(10), repeat=6):\n",
    "    succ = True\n",
    "    for i in range(5):\n",
    "        if el[i] == el[i+1]:\n",
    "            succ = False\n",
    "            break\n",
    "    if succ:\n",
    "        amount += 1\n",
    "\n",
    "print(\"amount =\", amount)"
   ]
  }
 ],
 "metadata": {
  "kernelspec": {
   "display_name": "Python 3",
   "language": "python",
   "name": "python3"
  },
  "language_info": {
   "codemirror_mode": {
    "name": "ipython",
    "version": 3
   },
   "file_extension": ".py",
   "mimetype": "text/x-python",
   "name": "python",
   "nbconvert_exporter": "python",
   "pygments_lexer": "ipython3",
   "version": "3.6.7"
  }
 },
 "nbformat": 4,
 "nbformat_minor": 1
}
