{
 "cells": [
  {
   "cell_type": "markdown",
   "metadata": {},
   "source": [
    "# Лабораторне заняття №8"
   ]
  },
  {
   "cell_type": "markdown",
   "metadata": {},
   "source": [
    "# Перетворення випадкових величин та векторів\n",
    "На цьому занятті ми реалізуємо перетворення випадкових величин із розглянутих раніше розподілів, які реалізовані в бібліотеці [SciPy](https://docs.scipy.org/doc/scipy/reference/).\n",
    "Із цього пакету будемо використовувати клас [scipy.stats](https://docs.scipy.org/doc/scipy/reference/stats.html), в якому реалізована велика кількість імовірнісних розподілів і статистичних функцій.\n",
    "\n",
    "Для візуалізації використаємо бібліотеку [Matplotlib](https://matplotlib.org/)."
   ]
  },
  {
   "cell_type": "code",
   "execution_count": 2,
   "metadata": {},
   "outputs": [],
   "source": [
    "import numpy as np\n",
    "import matplotlib.pyplot as plt"
   ]
  },
  {
   "cell_type": "markdown",
   "metadata": {},
   "source": [
    "## 1 Експоненційний розподіл"
   ]
  },
  {
   "cell_type": "markdown",
   "metadata": {},
   "source": [
    "### 1.1 Завдання 1"
   ]
  },
  {
   "cell_type": "markdown",
   "metadata": {},
   "source": [
    "Розглянемо дві випадкові величини $\\xi_1, \\xi_2$ зі стандартного експоненційного розподілу.\n",
    "Тобто $\\xi_1, \\xi_2 \\sim Exp(1)$.\n",
    "\n",
    "Який розподіл має випадкова величина $\\eta = 2 \\min\\{ \\xi_1, \\xi_2 \\}$?\n",
    "1. Згенеруйте $n = 10000$ значень випадкових величин $\\xi_1, \\xi_2$;\n",
    "2. Отримайте $n = 10000$ значень випадкової величини $\\eta$;\n",
    "5. Зобразіть на графіку:\n",
    "   - нормовану гістограму отриманих $n = 10000$ значень випадкової величини $\\eta$;\n",
    "   - функцію щільності випадкової величини $\\eta$."
   ]
  },
  {
   "cell_type": "code",
   "execution_count": 21,
   "metadata": {},
   "outputs": [
    {
     "data": {
      "text/plain": [
       "(array([0.83040665, 0.4884745 , 0.33527114, 0.20871183, 0.15542371,\n",
       "        0.07105084, 0.04662711, 0.03330508, 0.02220339, 0.00444068,\n",
       "        0.00444068, 0.00222034, 0.00666102, 0.        , 0.        ,\n",
       "        0.00666102, 0.00222034, 0.        , 0.        , 0.00222034]),\n",
       " array([9.65439658e-04, 4.51347188e-01, 9.01728936e-01, 1.35211068e+00,\n",
       "        1.80249243e+00, 2.25287418e+00, 2.70325593e+00, 3.15363768e+00,\n",
       "        3.60401942e+00, 4.05440117e+00, 4.50478292e+00, 4.95516467e+00,\n",
       "        5.40554642e+00, 5.85592817e+00, 6.30630991e+00, 6.75669166e+00,\n",
       "        7.20707341e+00, 7.65745516e+00, 8.10783691e+00, 8.55821865e+00,\n",
       "        9.00860040e+00]),\n",
       " <a list of 20 Patch objects>)"
      ]
     },
     "execution_count": 21,
     "metadata": {},
     "output_type": "execute_result"
    },
    {
     "data": {
      "image/png": "[encoded data removed]",
      "text/plain": [
       "<Figure size 432x288 with 1 Axes>"
      ]
     },
     "metadata": {},
     "output_type": "display_data"
    }
   ],
   "source": [
    "# Місце для Вашого коду\n",
    "\n",
    "from scipy.stats import expon\n",
    "\n",
    "rv = expon(0, 1)\n",
    "exp_rvs1 = rv.rvs(size=1000)\n",
    "exp_rvs2 = rv.rvs(size=1000)\n",
    "\n",
    "eta_rvs = [2 * min(a, b) for a, b in zip(exp_rvs1, exp_rvs2)]\n",
    "\n",
    "x = np.arange(0, 9, 0.2)\n",
    "y = np.exp(-x)\n",
    "plt.plot(x, y, 'r--')\n",
    "plt.hist(eta_rvs, rwidth=0.9, bins=20, density=True)"
   ]
  },
  {
   "cell_type": "markdown",
   "metadata": {},
   "source": [
    "### 1.2 Завдання 2"
   ]
  },
  {
   "cell_type": "markdown",
   "metadata": {},
   "source": [
    "Розглянемо дві випадкові величини $\\xi_1, \\xi_2$ зі стандартного експоненційного розподілу.\n",
    "Тобто $\\xi_1, \\xi_2 \\sim Exp(1)$.\n",
    "\n",
    "Який розподіл має випадкова величина $\\eta = \\max\\{ \\xi_1, \\xi_2 \\} - \\min\\{ \\xi_1, \\xi_2 \\}$?\n",
    "1. Згенеруйте $n = 10000$ значень випадкових величин $\\xi_1, \\xi_2$;\n",
    "2. Отримайте $n = 10000$ значень випадкової величини $\\eta$;\n",
    "5. Зобразіть на графіку:\n",
    "   - нормовану гістограму отриманих $n = 10000$ значень випадкової величини $\\eta$;\n",
    "   - функцію щільності випадкової величини $\\eta$."
   ]
  },
  {
   "cell_type": "code",
   "execution_count": 20,
   "metadata": {},
   "outputs": [
    {
     "data": {
      "text/plain": [
       "(array([9.11447935e-01, 7.05845239e-01, 5.57019856e-01, 4.28840770e-01,\n",
       "        3.47976111e-01, 2.82596174e-01, 2.12484795e-01, 1.72912728e-01,\n",
       "        1.41943284e-01, 1.12694365e-01, 9.46288559e-02, 7.22620354e-02,\n",
       "        5.63471824e-02, 4.43035098e-02, 3.26899684e-02, 2.83886568e-02,\n",
       "        2.36572140e-02, 1.46244595e-02, 1.11834102e-02, 1.11834102e-02,\n",
       "        6.02183628e-03, 3.01091814e-03, 5.16157396e-03, 8.17249210e-03,\n",
       "        4.30131163e-03, 2.15065582e-03, 3.87118047e-03, 1.72052465e-03,\n",
       "        0.00000000e+00, 0.00000000e+00, 1.29039349e-03, 0.00000000e+00,\n",
       "        0.00000000e+00, 0.00000000e+00, 1.29039349e-03, 0.00000000e+00,\n",
       "        0.00000000e+00, 4.30131163e-04, 0.00000000e+00, 8.60262326e-04]),\n",
       " array([2.79095180e-04, 2.32766319e-01, 4.65253543e-01, 6.97740767e-01,\n",
       "        9.30227991e-01, 1.16271521e+00, 1.39520244e+00, 1.62768966e+00,\n",
       "        1.86017689e+00, 2.09266411e+00, 2.32515133e+00, 2.55763856e+00,\n",
       "        2.79012578e+00, 3.02261301e+00, 3.25510023e+00, 3.48758745e+00,\n",
       "        3.72007468e+00, 3.95256190e+00, 4.18504912e+00, 4.41753635e+00,\n",
       "        4.65002357e+00, 4.88251080e+00, 5.11499802e+00, 5.34748524e+00,\n",
       "        5.57997247e+00, 5.81245969e+00, 6.04494691e+00, 6.27743414e+00,\n",
       "        6.50992136e+00, 6.74240859e+00, 6.97489581e+00, 7.20738303e+00,\n",
       "        7.43987026e+00, 7.67235748e+00, 7.90484471e+00, 8.13733193e+00,\n",
       "        8.36981915e+00, 8.60230638e+00, 8.83479360e+00, 9.06728082e+00,\n",
       "        9.29976805e+00]),\n",
       " <a list of 40 Patch objects>)"
      ]
     },
     "execution_count": 20,
     "metadata": {},
     "output_type": "execute_result"
    },
    {
     "data": {
      "image/png": "[encoded data removed]",
      "text/plain": [
       "<Figure size 432x288 with 1 Axes>"
      ]
     },
     "metadata": {},
     "output_type": "display_data"
    }
   ],
   "source": [
    "# Місце для Вашого коду\n",
    "\n",
    "exp_rvs1 = expon.rvs(1, size=10_000)\n",
    "exp_rvs2 = expon.rvs(1, size=10_000)\n",
    "\n",
    "eta_rvs = [max(a, b) - min(a, b) for a, b in zip(exp_rvs1, exp_rvs2)]\n",
    "\n",
    "x = np.arange(0, 6, 0.1)\n",
    "y = np.exp(-x)\n",
    "\n",
    "plt.plot(x, y, 'r--')\n",
    "\n",
    "plt.hist(eta_rvs, rwidth=0.9, bins=40, density=True)"
   ]
  },
  {
   "cell_type": "markdown",
   "metadata": {},
   "source": [
    "### 1.3 Завдання 3"
   ]
  },
  {
   "cell_type": "markdown",
   "metadata": {},
   "source": [
    "Розглянемо дві випадкові величини $\\xi_1, \\xi_2$ зі стандартного експоненційного розподілу.\n",
    "Тобто $\\xi_1, \\xi_2 \\sim Exp(1)$.\n",
    "\n",
    "Який розподіл має випадкова величина $\\eta = \\left| \\xi_1 - \\xi_2 \\right|$?\n",
    "1. Згенеруйте $n = 10000$ значень випадкових величин $\\xi_1, \\xi_2$;\n",
    "2. Отримайте $n = 10000$ значень випадкової величини $\\eta$;\n",
    "5. Зобразіть на графіку:\n",
    "   - нормовану гістограму отриманих $n = 10000$ значень випадкової величини $\\eta$;\n",
    "   - функцію щільності випадкової величини $\\eta$."
   ]
  },
  {
   "cell_type": "code",
   "execution_count": 36,
   "metadata": {},
   "outputs": [
    {
     "data": {
      "text/plain": [
       "(array([9.41248625e-01, 6.90000641e-01, 5.26089271e-01, 4.27990799e-01,\n",
       "        3.26167070e-01, 2.59112418e-01, 2.07786636e-01, 1.75087145e-01,\n",
       "        1.26658786e-01, 9.47871306e-02, 7.82304266e-02, 6.66407338e-02,\n",
       "        5.54649585e-02, 3.64247489e-02, 2.73185617e-02, 1.98680449e-02,\n",
       "        1.90402096e-02, 7.86443442e-03, 1.11757752e-02, 1.24175280e-02,\n",
       "        6.62268162e-03, 2.48350561e-03, 3.31134081e-03, 3.72525841e-03,\n",
       "        4.96701121e-03, 2.06958801e-03, 1.65567040e-03, 1.24175280e-03,\n",
       "        0.00000000e+00, 8.27835202e-04, 4.13917601e-04, 4.13917601e-04,\n",
       "        4.13917601e-04, 8.27835202e-04, 4.13917601e-04, 0.00000000e+00,\n",
       "        0.00000000e+00, 0.00000000e+00, 0.00000000e+00, 4.13917601e-04]),\n",
       " array([4.29972425e-05, 2.41636976e-01, 4.83230954e-01, 7.24824933e-01,\n",
       "        9.66418911e-01, 1.20801289e+00, 1.44960687e+00, 1.69120085e+00,\n",
       "        1.93279483e+00, 2.17438880e+00, 2.41598278e+00, 2.65757676e+00,\n",
       "        2.89917074e+00, 3.14076472e+00, 3.38235870e+00, 3.62395267e+00,\n",
       "        3.86554665e+00, 4.10714063e+00, 4.34873461e+00, 4.59032859e+00,\n",
       "        4.83192257e+00, 5.07351655e+00, 5.31511052e+00, 5.55670450e+00,\n",
       "        5.79829848e+00, 6.03989246e+00, 6.28148644e+00, 6.52308042e+00,\n",
       "        6.76467439e+00, 7.00626837e+00, 7.24786235e+00, 7.48945633e+00,\n",
       "        7.73105031e+00, 7.97264429e+00, 8.21423827e+00, 8.45583224e+00,\n",
       "        8.69742622e+00, 8.93902020e+00, 9.18061418e+00, 9.42220816e+00,\n",
       "        9.66380214e+00]),\n",
       " <a list of 40 Patch objects>)"
      ]
     },
     "execution_count": 36,
     "metadata": {},
     "output_type": "execute_result"
    },
    {
     "data": {
      "image/png": "[encoded data removed]",
      "text/plain": [
       "<Figure size 432x288 with 1 Axes>"
      ]
     },
     "metadata": {},
     "output_type": "display_data"
    }
   ],
   "source": [
    "# Місце для Вашого коду\n",
    "exp_rvs1 = expon.rvs(1, size=10_000)\n",
    "exp_rvs2 = expon.rvs(1, size=10_000)\n",
    "\n",
    "eta_rvs = [abs(a - b) for a, b in zip(exp_rvs1, exp_rvs2)]\n",
    "\n",
    "x = np.arange(0, 6, 0.1)\n",
    "y = np.exp(-x)\n",
    "\n",
    "plt.plot(x, y, 'r--')\n",
    "\n",
    "plt.hist(eta_rvs, rwidth=0.8, bins=40, density=True)"
   ]
  },
  {
   "cell_type": "markdown",
   "metadata": {},
   "source": [
    "## 2 Нормальний розподіл"
   ]
  },
  {
   "cell_type": "markdown",
   "metadata": {},
   "source": [
    "### 2.1 Сума нормальних"
   ]
  },
  {
   "cell_type": "markdown",
   "metadata": {},
   "source": [
    "Розглянемо дві випадкові величини $\\xi_1, \\xi_2$ зі стандартного нормального розподілу.\n",
    "Тобто $\\xi_1, \\xi_2 \\sim N(0, 1)$.\n",
    "\n",
    "Який розподіл має випадкова величина $\\eta = \\xi_1 + \\xi_2$?\n",
    "1. Згенеруйте $n = 10000$ значень випадкових величин $\\xi_1, \\xi_2$;\n",
    "2. Отримайте $n = 10000$ значень випадкової величини $\\eta$;\n",
    "5. Зобразіть на графіку:\n",
    "   - нормовану гістограму отриманих $n = 10000$ значень випадкової величини $\\eta$;\n",
    "   - функцію щільності випадкової величини $\\eta$."
   ]
  },
  {
   "cell_type": "code",
   "execution_count": 35,
   "metadata": {},
   "outputs": [
    {
     "data": {
      "text/plain": [
       "(array([0.00031447, 0.00031447, 0.00062894, 0.00094341, 0.00031447,\n",
       "        0.00220129, 0.00691834, 0.0084907 , 0.01855374, 0.03113255,\n",
       "        0.04496924, 0.07327155, 0.08805165, 0.13553665, 0.17232966,\n",
       "        0.21761337, 0.23773946, 0.26981542, 0.27012989, 0.28711128,\n",
       "        0.26446943, 0.24591568, 0.1877387 , 0.16541132, 0.13522218,\n",
       "        0.10031599, 0.0622651 , 0.04717053, 0.0295602 , 0.01635245,\n",
       "        0.01100646, 0.00503152, 0.00408811, 0.00188682, 0.00062894,\n",
       "        0.00031447, 0.00031447, 0.00031447, 0.        , 0.00031447]),\n",
       " array([-6.03745941e+00, -5.71946424e+00, -5.40146907e+00, -5.08347390e+00,\n",
       "        -4.76547873e+00, -4.44748356e+00, -4.12948839e+00, -3.81149322e+00,\n",
       "        -3.49349805e+00, -3.17550288e+00, -2.85750771e+00, -2.53951254e+00,\n",
       "        -2.22151737e+00, -1.90352220e+00, -1.58552703e+00, -1.26753186e+00,\n",
       "        -9.49536686e-01, -6.31541516e-01, -3.13546346e-01,  4.44882439e-03,\n",
       "         3.22443994e-01,  6.40439164e-01,  9.58434334e-01,  1.27642950e+00,\n",
       "         1.59442467e+00,  1.91241984e+00,  2.23041501e+00,  2.54841018e+00,\n",
       "         2.86640535e+00,  3.18440052e+00,  3.50239569e+00,  3.82039086e+00,\n",
       "         4.13838603e+00,  4.45638120e+00,  4.77437637e+00,  5.09237154e+00,\n",
       "         5.41036671e+00,  5.72836188e+00,  6.04635705e+00,  6.36435222e+00,\n",
       "         6.68234739e+00]),\n",
       " <a list of 40 Patch objects>)"
      ]
     },
     "execution_count": 35,
     "metadata": {},
     "output_type": "execute_result"
    },
    {
     "data": {
      "image/png": "[encoded data removed]",
      "text/plain": [
       "<Figure size 432x288 with 1 Axes>"
      ]
     },
     "metadata": {},
     "output_type": "display_data"
    }
   ],
   "source": [
    "# Місце для Вашого коду\n",
    "\n",
    "from scipy.stats import norm\n",
    "\n",
    "norm_rvs1 = norm.rvs(size=10_000)\n",
    "norm_rvs2 = norm.rvs(size=10_000)\n",
    "\n",
    "eta_rvs = norm_rvs1 + norm_rvs2\n",
    "\n",
    "x = np.arange(-6, 10, 0.1)\n",
    "y = norm(0, np.sqrt(2)).pdf(x)\n",
    "plt.plot(x, y, 'r--')\n",
    "\n",
    "plt.hist(eta_rvs, rwidth=0.8, bins=40, density=True)"
   ]
  },
  {
   "cell_type": "markdown",
   "metadata": {},
   "source": [
    "### 2.2 Перетворення Бокса-Мюллера"
   ]
  },
  {
   "cell_type": "markdown",
   "metadata": {},
   "source": [
    "Розглянемо дві випадкові величини $\\xi_1, \\xi_2$ зі стандартного рівномірного розподілу.\n",
    "Тобто $\\xi_1, \\xi_2 \\sim Uniform(0, 1)$.\n",
    "\n",
    "Тоді випадкові величини\n",
    "$$\\zeta_1 = \\sqrt{-2 \\log{\\xi_1}} \\cos(2 \\pi \\xi_2)$$,\n",
    "$$\\zeta_2 = \\sqrt{-2 \\log{\\xi_1}} \\sin(2 \\pi \\xi_2)$$\n",
    "незалежні та мають стандартний нормальний розподіл.\n",
    "1. Згенеруйте $n = 10000$ значень випадкових величин $\\xi_1, \\xi_2$;\n",
    "2. Отримайте $n = 10000$ значень випадкової величини $\\zeta_1$;\n",
    "3. Зобразіть на графіку:\n",
    "   - нормовану гістограму отриманих $n = 10000$ значень випадкової величини $\\zeta_1$;\n",
    "   - функцію щільності випадкової величини $\\zeta_1$.\n",
    "4. Зобразіть на графіку:\n",
    "   - нормовану гістограму отриманих $n = 10000$ значень випадкової величини $\\zeta_2$;\n",
    "   - функцію щільності випадкової величини $\\zeta_2$."
   ]
  },
  {
   "cell_type": "code",
   "execution_count": 51,
   "metadata": {},
   "outputs": [
    {
     "data": {
      "text/plain": [
       "[]"
      ]
     },
     "execution_count": 51,
     "metadata": {},
     "output_type": "execute_result"
    },
    {
     "data": {
      "image/png": "[encoded data removed]",
      "text/plain": [
       "<Figure size 1080x360 with 2 Axes>"
      ]
     },
     "metadata": {},
     "output_type": "display_data"
    }
   ],
   "source": [
    "# Місце для Вашого коду\n",
    "\n",
    "from scipy.stats import uniform\n",
    "\n",
    "rv1 = uniform(0, 1)\n",
    "rv2 = uniform(0, 1)\n",
    "\n",
    "rvs1 = rv1.rvs(size=10_000)\n",
    "rvs2 = rv2.rvs(size=10_000)\n",
    "x = np.arange(-6, 6, 0.1)\n",
    "y = norm.pdf(x)\n",
    "\n",
    "rvs_dzeta1 = np.sqrt(-2 * np.log(rvs1)) * np.cos(2 * np.pi * rvs2)\n",
    "rvs_dzeta2 = np.sqrt(-2 * np.log(rvs1)) * np.sin(2 * np.pi * rvs2)\n",
    "\n",
    "fig, axs = plt.subplots(1, 2, figsize=(15, 5))\n",
    "axs[0].hist(rvs_dzeta1, bins=40, rwidth=0.8, density=True)\n",
    "axs[0].plot(x, y, 'r--')\n",
    "\n",
    "axs[1].hist(rvs_dzeta2, bins=40, rwidth=0.8, density=True)\n",
    "axs[1].plot(x, y, 'r--')\n",
    "\n",
    "plt.plot()"
   ]
  },
  {
   "cell_type": "code",
   "execution_count": null,
   "metadata": {},
   "outputs": [],
   "source": []
  },
  {
   "cell_type": "code",
   "execution_count": null,
   "metadata": {
    "collapsed": true
   },
   "outputs": [],
   "source": []
  }
 ],
 "metadata": {
  "kernelspec": {
   "display_name": "Python 3",
   "language": "python",
   "name": "python3"
  },
  "language_info": {
   "codemirror_mode": {
    "name": "ipython",
    "version": 3
   },
   "file_extension": ".py",
   "mimetype": "text/x-python",
   "name": "python",
   "nbconvert_exporter": "python",
   "pygments_lexer": "ipython3",
   "version": "3.6.7"
  }
 },
 "nbformat": 4,
 "nbformat_minor": 1
}
