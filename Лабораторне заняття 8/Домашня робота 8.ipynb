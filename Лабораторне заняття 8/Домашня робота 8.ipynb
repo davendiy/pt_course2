{
 "cells": [
  {
   "cell_type": "markdown",
   "metadata": {},
   "source": [
    "# Домашня робота №8"
   ]
  },
  {
   "cell_type": "markdown",
   "metadata": {},
   "source": [
    "# Перетворення випадкових величин та векторів"
   ]
  },
  {
   "cell_type": "code",
   "execution_count": 2,
   "metadata": {},
   "outputs": [],
   "source": [
    "import numpy as np\n",
    "import matplotlib.pyplot as plt"
   ]
  },
  {
   "cell_type": "markdown",
   "metadata": {},
   "source": [
    "## 1 Експоненційний розподіл"
   ]
  },
  {
   "cell_type": "markdown",
   "metadata": {},
   "source": [
    "### 1.1 Завдання 1.1"
   ]
  },
  {
   "cell_type": "markdown",
   "metadata": {},
   "source": [
    "Розглянемо дві незалежні випадкові величини $\\xi_1, \\xi_2$ зі стандартного експоненційного розподілу.\n",
    "Тобто $\\xi_1, \\xi_2 \\sim Exp(1)$.\n",
    "\n",
    "Який розподіл має випадкова величина $\\displaystyle \\eta = \\frac{\\xi_1}{\\xi_1 + \\xi_2}$?\n",
    "1. Згенеруйте $n = 10000$ значень випадкових величин $\\xi_1, \\xi_2$;\n",
    "2. Отримайте $n = 10000$ значень випадкової величини $\\eta$;\n",
    "3. Зобразіть на графіку:\n",
    "   - нормовану гістограму отриманих $n = 10000$ значень випадкової величини $\\eta$;\n",
    "   - функцію щільності випадкової величини $\\eta$.\n",
    "\n",
    "**Зауваження.** Передбачається використання теореми про обрахунок щільності функції від випадкової величини (через якобіан оберненого відображення)."
   ]
  },
  {
   "cell_type": "code",
   "execution_count": 10,
   "metadata": {},
   "outputs": [
    {
     "data": {
      "image/png": "[encoded data removed]",
      "text/plain": [
       "<Figure size 432x288 with 1 Axes>"
      ]
     },
     "metadata": {},
     "output_type": "display_data"
    }
   ],
   "source": [
    "# Місце для Вашого коду\n",
    "\n",
    "from scipy.stats import expon\n",
    "from scipy.special import gammainc\n",
    "\n",
    "rv1 = expon(0, 1)\n",
    "rv2 = expon(0, 1)\n",
    "\n",
    "random1 = rv1.rvs(100_000)\n",
    "random2 = rv2.rvs(100_000)\n",
    "\n",
    "res_random = random1 / (random1 + random2)\n",
    "x = np.arange(0, 1, 0.01)\n",
    "\n",
    "plt.hist(res_random, bins=20, density=True, rwidth=0.9)\n",
    "plt.plot(x, gammainc(0, np.sqrt(x)), 'r')        # density = Г(0, sqrt(x)) = 1 for real x\n",
    "plt.show()"
   ]
  },
  {
   "cell_type": "markdown",
   "metadata": {},
   "source": [
    "### 1.2 Завдання 1.2"
   ]
  },
  {
   "cell_type": "markdown",
   "metadata": {},
   "source": [
    "Розглянемо дві незалежні випадкові величини $\\xi_1, \\xi_2$ зі стандартного експоненційного розподілу.\n",
    "Тобто $\\xi_1, \\xi_2 \\sim Exp(1)$.\n",
    "\n",
    "Який розподіл має випадкова величина $\\eta = \\xi_1 + \\xi_2$?\n",
    "1. Згенеруйте $n = 10000$ значень випадкових величин $\\xi_1, \\xi_2$;\n",
    "2. Отримайте $n = 10000$ значень випадкової величини $\\eta$;\n",
    "3. Зобразіть на графіку:\n",
    "   - нормовану гістограму отриманих $n = 10000$ значень випадкової величини $\\eta$;\n",
    "   - функцію щільності випадкової величини $\\eta$.\n",
    "\n",
    "**Зауваження.** Передбачається використання теореми про обрахунок щільності суми двох незалежних випадкових величин (через згортку щільностей)."
   ]
  },
  {
   "cell_type": "code",
   "execution_count": 13,
   "metadata": {},
   "outputs": [
    {
     "data": {
      "image/png": "[encoded data removed]",
      "text/plain": [
       "<Figure size 432x288 with 1 Axes>"
      ]
     },
     "metadata": {},
     "output_type": "display_data"
    }
   ],
   "source": [
    "# Місце для Вашого коду\n",
    "\n",
    "random1 = rv1.rvs(10_000)\n",
    "random2 = rv2.rvs(10_000)\n",
    "\n",
    "res_random = random1 + random2\n",
    "\n",
    "x = np.arange(0, 12, 0.01)\n",
    "plt.hist(res_random, bins=20, rwidth=0.9, density=True)\n",
    "plt.plot(x, x * np.exp(-x), 'r')\n",
    "plt.show()\n"
   ]
  },
  {
   "cell_type": "markdown",
   "metadata": {},
   "source": [
    "## 2 Нормальний розподіл"
   ]
  },
  {
   "cell_type": "markdown",
   "metadata": {},
   "source": [
    "### 2.1 Завдання 2.1"
   ]
  },
  {
   "cell_type": "markdown",
   "metadata": {},
   "source": [
    "Розглянемо три незалежні випадкові величини $\\xi_1, \\xi_2, \\theta$ такі,\n",
    "що $\\xi_1, \\xi_2 \\sim N(0, 1), \\theta \\sim Uniform(0, 2 \\pi)$.\n",
    "\n",
    "Який розподіл має випадкова величина $\\displaystyle \\zeta = \\xi_1 \\cos \\theta + \\xi_2 \\sin \\theta$?\n",
    "1. Згенеруйте $n = 10000$ значень випадкових величин $\\xi_1, \\xi_2, \\theta$;\n",
    "2. Отримайте $n = 10000$ значень випадкової величини $\\zeta$;\n",
    "3. Зобразіть на графіку:\n",
    "   - нормовану гістограму отриманих $n = 10000$ значень випадкової величини $\\zeta$;\n",
    "   - функцію щільності випадкової величини $\\zeta$.\n",
    "\n",
    "**Зауваження.** Передбачається використання теореми про лінійне перетворення нормальних величин."
   ]
  },
  {
   "cell_type": "markdown",
   "metadata": {},
   "source": [
    "Let there is a random value $\\xi = \\begin{pmatrix} \\xi_1 \\\\ \\xi_2 \\end{pmatrix}\\sim N_2(0, 1)$\n",
    "\n",
    "Let there is a linear transformation \n",
    "$$A = \\begin{pmatrix} \\cos{\\theta} & \\sin{\\theta} \\\\\n",
    "                  -\\sin{\\theta} & \\cos{\\theta} \n",
    "  \\end{pmatrix}$$\n",
    " \n",
    "A is ortogonal, thus by the theorem of linear transformation of random value with standard normal distribution:\n",
    "\n",
    "$$A \\xi  = \\begin{pmatrix} \\xi_1\\cos{\\theta} + \\xi_2\\sin{\\theta} \\\\\n",
    "                           \\xi_1\\cos{\\theta} - \\xi_2\\sin{\\theta} \\end{pmatrix}  \\sim N_2 (0, 1)$$\n",
    "\n",
    "Thus, \n",
    "$$f_{A \\xi} (x, y) = \\frac{1}{2\\pi} e^{-\\frac{(x^2 + y^2)}{2}}$$\n",
    "$$f_{\\varsigma} (x) = \\int_{-\\infty}^{\\infty}\\frac{1}{2\\pi} e^{-\\frac{x^2 + y^2}{2}}dy = \\frac{1}{\\sqrt{2\\pi}}e^{-\\frac{x^2}{2}}$$"
   ]
  },
  {
   "cell_type": "code",
   "execution_count": 21,
   "metadata": {},
   "outputs": [
    {
     "data": {
      "image/png": "[encoded data removed]",
      "text/plain": [
       "<Figure size 432x288 with 1 Axes>"
      ]
     },
     "metadata": {},
     "output_type": "display_data"
    }
   ],
   "source": [
    "# Місце для Вашого коду\n",
    "\n",
    "from scipy.stats import norm, uniform\n",
    "\n",
    "rv1 = norm()\n",
    "rv2 = norm()\n",
    "theta = uniform(0, 2 * np.pi)\n",
    "\n",
    "x = np.arange(-4, 4, 0.01)\n",
    "random1 = rv1.rvs(100_000)\n",
    "random2 = rv2.rvs(100_000)\n",
    "random3 = theta.rvs(100_000)\n",
    "\n",
    "res_random = random1 * np.cos(random3) + random2 * np.sin(random3)\n",
    "plt.hist(res_random, bins=20, rwidth=0.9, density=True)\n",
    "plt.plot(x, rv1.pdf(x), 'r')\n",
    "plt.show()"
   ]
  },
  {
   "cell_type": "markdown",
   "metadata": {},
   "source": [
    "### 2.2 Завдання 2.2"
   ]
  },
  {
   "cell_type": "markdown",
   "metadata": {},
   "source": [
    "Розглянемо дві незалежні випадкові величини $\\xi_1, \\xi_2$ зі стандартного нормального розподілу.\n",
    "Тобто $\\xi_1, \\xi_2 \\sim N(0, 1)$.\n",
    "\n",
    "Які розподіли (щільності) мають випадкові величини $\\displaystyle \\zeta = \\sqrt{\\xi_1^2 + \\xi_2^2}, \\eta = \\arccos \\frac{\\xi_1}{\\zeta}$?\n",
    "1. Згенеруйте $n = 10000$ значень випадкових величин $\\xi_1, \\xi_2$;\n",
    "2. Отримайте $n = 10000$ значень випадкової величини $\\zeta$;\n",
    "3. Отримайте $n = 10000$ значень випадкової величини $\\eta$;\n",
    "4. Зобразіть на графіку:\n",
    "   - нормовану гістограму отриманих $n = 10000$ значень випадкової величини $\\zeta$;\n",
    "   - функцію щільності випадкової величини $\\zeta$;\n",
    "5. Зобразіть на графіку:\n",
    "   - нормовану гістограму отриманих $n = 10000$ значень випадкової величини $\\eta$;\n",
    "   - функцію щільності випадкової величини $\\eta$.\n",
    "\n",
    "**Зауваження 1.** Передбачається використання теореми про обрахунок щільності функції від випадкової величини (через якобіан оберненого відображення).\n",
    "\n",
    "**Зауваження 2.** Насправді, розподіл отриманих значень випадкової величини $\\eta$ буде трохи відрізнятися від порахованого теоретично (будуть інші параметри).\n",
    "Так виходить за рахунок реалізації функції $\\arccos$ (її області значень)."
   ]
  },
  {
   "cell_type": "code",
   "execution_count": 5,
   "metadata": {},
   "outputs": [],
   "source": [
    "# Місце для Вашого коду\n",
    "\n"
   ]
  },
  {
   "cell_type": "markdown",
   "metadata": {},
   "source": [
    "## 3 Рівномірний розподіл"
   ]
  },
  {
   "cell_type": "markdown",
   "metadata": {},
   "source": [
    "### 3.1 Завдання 3.1"
   ]
  },
  {
   "cell_type": "markdown",
   "metadata": {},
   "source": [
    "Розглянемо дві незалежні випадкові величини $\\xi_1, \\xi_2$ з рівномірного розподілу на $[-1, 1]$.\n",
    "Тобто $\\xi_1, \\xi_2 \\sim Uniform(-1, 1)$.\n",
    "\n",
    "Який розподіл має випадкова величина $\\eta = \\xi_1 + \\xi_2$?\n",
    "1. Згенеруйте $n = 10000$ значень випадкових величин $\\xi_1, \\xi_2$;\n",
    "2. Отримайте $n = 10000$ значень випадкової величини $\\eta$;\n",
    "3. Зобразіть на графіку:\n",
    "   - нормовану гістограму отриманих $n = 10000$ значень випадкової величини $\\eta$;\n",
    "   - функцію щільності випадкової величини $\\eta$.\n",
    "\n",
    "**Зауваження.** Передбачається використання теореми про обрахунок щільності суми двох незалежних випадкових величин (через згортку щільностей)."
   ]
  },
  {
   "cell_type": "code",
   "execution_count": 6,
   "metadata": {},
   "outputs": [],
   "source": [
    "# Місце для Вашого коду\n",
    "\n"
   ]
  },
  {
   "cell_type": "code",
   "execution_count": null,
   "metadata": {
    "collapsed": true
   },
   "outputs": [],
   "source": []
  }
 ],
 "metadata": {
  "kernelspec": {
   "display_name": "Python 3",
   "language": "python",
   "name": "python3"
  },
  "language_info": {
   "codemirror_mode": {
    "name": "ipython",
    "version": 3
   },
   "file_extension": ".py",
   "mimetype": "text/x-python",
   "name": "python",
   "nbconvert_exporter": "python",
   "pygments_lexer": "ipython3",
   "version": "3.6.7"
  }
 },
 "nbformat": 4,
 "nbformat_minor": 1
}
