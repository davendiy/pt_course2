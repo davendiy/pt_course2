{
 "cells": [
  {
   "cell_type": "markdown",
   "metadata": {},
   "source": [
    "# Додаткові завдання №6"
   ]
  },
  {
   "cell_type": "markdown",
   "metadata": {},
   "source": [
    "## 1 Парадокс днів народження"
   ]
  },
  {
   "cell_type": "markdown",
   "metadata": {},
   "source": [
    "Нехай маємо $n$ людей.\n",
    "Їх дні народження припадають на один з 12 місяців.\n",
    "Нехай тоді випадкова величина $\\xi$ - це кількість співпадінь місяців народжень серед цих $n$ людей.\n",
    "\n",
    "Напишіть функцію для обрахунку щільності випадкової величини $\\xi$ (тобто усі ймовірності $\\mathsf{P}(\\xi = k)$ для відповідних значень $k$) в залежності від кількості $n$ людей методом повного перебору.\n",
    "Виведіть результат для $n = 1, 2, 3, 4, 5, 6.$\n",
    "\n",
    "Напишіть теоретичні формули для щільності випадкової величини $\\xi$.\n",
    "Порівняйте теоретичні значення з обчисленими повним перебором.\n",
    "\n",
    "Для якого $n$ ймовірність хоча б одного співпадіння не менша $\\frac{1}{2}$ (тобто $\\mathsf{P}(\\xi > 0) \\geq \\frac{1}{2}$)?\n",
    "\n",
    "**Зауваження.** Кількість співпадінь означає кількість однакових пар. Наприклад,\n",
    "- у наборі $\\{ 1, 1, 2, 3 \\}$ є одна пара;\n",
    "- у наборі $\\{ 1, 1, 1, 3 \\}$ є три пари;\n",
    "- у наборі $\\{ 1, 1, 1, 1 \\}$ є шість пар."
   ]
  },
  {
   "cell_type": "code",
   "execution_count": 23,
   "metadata": {},
   "outputs": [
    {
     "name": "stdout",
     "output_type": "stream",
     "text": [
      "n -- theoretical,  by full permute\n",
      "\n",
      "1\n",
      "0 -- 0.08333333333333333, 1.0\n",
      "\n",
      "2\n",
      "1 -- 0.16666666666666666, 0.08333333333333333\n",
      "0 -- 0.08333333333333333, 0.9166666666666666\n",
      "\n",
      "3\n",
      "3 -- 1.6666666666666667, 0.006944444444444444\n",
      "1 -- 0.5, 0.22916666666666666\n",
      "0 -- 0.08333333333333333, 0.7638888888888888\n",
      "\n",
      "4\n",
      "6 -- 77.0, 0.0005787037037037037\n",
      "3 -- 18.333333333333332, 0.02546296296296296\n",
      "2 -- 5.5, 0.019097222222222224\n",
      "1 -- 1.0, 0.3819444444444444\n",
      "0 -- 0.08333333333333333, 0.5729166666666666\n",
      "\n",
      "5\n",
      "10 -- 15396.333333333334, 4.8225308641975306e-05\n",
      "6 -- 3230.0, 0.002652391975308642\n",
      "4 -- 403.75, 0.005304783950617284\n",
      "3 -- 95.0, 0.05304783950617284\n",
      "2 -- 15.833333333333334, 0.07957175925925926\n",
      "1 -- 1.6666666666666667, 0.4774305555555556\n",
      "0 -- 0.08333333333333333, 0.3819444444444444\n",
      "\n",
      "6\n",
      "15 -- 12926460.0, 4.018775720164609e-06\n",
      "10 -- 2503751.25, 0.0002652391975308642\n",
      "7 -- 169650.0, 0.0006630979938271605\n",
      "6 -- 49481.25, 0.007073045267489712\n",
      "4 -- 2283.75, 0.02652391975308642\n",
      "3 -- 338.3333333333333, 0.08620273919753087\n",
      "2 -- 36.25, 0.17903645833333334\n",
      "1 -- 2.5, 0.4774305555555556\n",
      "0 -- 0.08333333333333333, 0.22280092592592593\n"
     ]
    }
   ],
   "source": [
    "# Місце для Вашого коду\n",
    "from collections import Counter, defaultdict\n",
    "from itertools import product\n",
    "\n",
    "factorials = {1: 1, 0: 1}\n",
    "\n",
    "def factorial(n):\n",
    "    if n not in factorials:\n",
    "        factorials[n] = factorial(n-1) * n\n",
    "    return factorials[n]\n",
    "\n",
    "\n",
    "def binomial(n, k):\n",
    "    if k == n:\n",
    "        return 1\n",
    "    elif k > n:\n",
    "        return 0\n",
    "    else:\n",
    "        return int(factorial(n) / (factorial(n - k) * factorial(k)))\n",
    "\n",
    "\n",
    "def permute(n):\n",
    "    counts = defaultdict(int)\n",
    "    amount = 0\n",
    "    for el in product(range(1, 13), repeat=n):\n",
    "        tmp = Counter(el)\n",
    "        res = sum(map(lambda a: binomial(a, 2), tmp.values()))    # number of pairs\n",
    "        counts[res] += 1\n",
    "        amount += 1\n",
    "    for el in counts:\n",
    "        counts[el] /= amount\n",
    "    return counts\n",
    "\n",
    "\n",
    "def theoretical(n):\n",
    "    tmp_n = n**2 - n\n",
    "    res = {k:binomial(tmp_n, k) / 12 for k in range(binomial(n, 2)+1)}\n",
    "    return res\n",
    "\n",
    "\n",
    "print(\"n -- theoretical,  by full permute\")\n",
    "for n in range(1, 7):\n",
    "    tmp1 = theoretical(n)\n",
    "    tmp2 = permute(n)\n",
    "    print()\n",
    "    print(n)\n",
    "    for el in tmp2:\n",
    "        print(f\"{el} -- {tmp1[el]}, {tmp2[el]}\")\n",
    "        \n"
   ]
  },
  {
   "cell_type": "code",
   "execution_count": null,
   "metadata": {},
   "outputs": [],
   "source": []
  }
 ],
 "metadata": {
  "kernelspec": {
   "display_name": "Python 3",
   "language": "python",
   "name": "python3"
  },
  "language_info": {
   "codemirror_mode": {
    "name": "ipython",
    "version": 3
   },
   "file_extension": ".py",
   "mimetype": "text/x-python",
   "name": "python",
   "nbconvert_exporter": "python",
   "pygments_lexer": "ipython3",
   "version": "3.7.2"
  }
 },
 "nbformat": 4,
 "nbformat_minor": 1
}
