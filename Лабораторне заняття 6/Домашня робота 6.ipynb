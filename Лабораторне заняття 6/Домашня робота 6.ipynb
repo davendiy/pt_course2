{
 "cells": [
  {
   "cell_type": "markdown",
   "metadata": {},
   "source": [
    "# Домашня робота №6"
   ]
  },
  {
   "cell_type": "markdown",
   "metadata": {},
   "source": [
    "# Математичне сподівання та дисперсія"
   ]
  },
  {
   "cell_type": "markdown",
   "metadata": {},
   "source": [
    "## 1 Порівняння"
   ]
  },
  {
   "cell_type": "markdown",
   "metadata": {},
   "source": [
    "1. Реалізуйте функцію для підрахунку математичного сподівання випадкової величини $\\xi$, заданої в класі **scipy.stats**, усіма можливими способами:\n",
    "   - за допомогою методу **mean**;\n",
    "   - за допомогою методу **expect**;\n",
    "   - за допомогою методу **stats**.\n",
    "\n",
    "2. Реалізуйте функцію для підрахунку дисперсії випадкової величини $\\xi$, заданої в класі **scipy.stats**, усіма можливими способами:\n",
    "   - за допомогою методу **var**;\n",
    "   - за допомогою методу **expect** та формули для дисперсії \n",
    "$\\mathsf{D}(\\xi) = \\mathsf{E} \\left[ \\left( \\xi - \\mathsf{E}[\\xi] \\right)^2 \\right]$;\n",
    "   - за допомогою методу **expect** та формули для дисперсії\n",
    "$\\mathsf{D}(\\xi) = \\mathsf{E}[\\xi^2] - \\left( \\mathsf{E}[\\xi] \\right)^2$;\n",
    "   - за допомогою методу **stats**.\n",
    "\n",
    "3. Порахуйте математичне сподівання та дисперсію, використовуючи функції з пунктів **1., 2.**, і порівняйте (виведіть різницю) їх із теоретичними значеннями, використовуючи формули з лекцій, для таких випадкових величин:\n",
    "   - $\\xi \\sim Binom(10, 0.4)$ (біноміальний розподіл);\n",
    "   - $\\xi \\sim Geom(0.5)$ (геометричний розподіл);\n",
    "   - $\\xi \\sim Pois(0.6)$ (розподіл Пуассона);\n",
    "   - $\\xi \\sim NBinom(5, 0.4)$ (від'ємний біноміальний розподіл);\n",
    "   - $\\xi \\sim HGeom(20, 7, 12)$ (гіпергеометричний розподіл);\n",
    "   - $\\xi \\sim Unif(0, 1)$ (рівномірний розподіл);\n",
    "   - $\\xi \\sim Exp(0.5)$ (експоненційний (показниковий) розподіл);\n",
    "   - $\\xi \\sim N(0, 1)$ (нормальний розподіл);\n",
    "   - $\\xi \\sim \\Gamma(2)$ (гамма розподіл);\n",
    "   - $\\xi \\sim LogNorm(0, 1)$ (логнормальний розподіл);\n",
    "   - $\\xi \\sim B(2, 1.1)$ (бета розподіл)."
   ]
  },
  {
   "cell_type": "code",
   "execution_count": 2,
   "metadata": {},
   "outputs": [
    {
     "name": "stdout",
     "output_type": "stream",
     "text": [
      "Binom \n",
      "expects: (4.0, 4.0000000000000036, array(4.)), \n",
      "variances: (2.4, 2.4000000000000012, 2.399999999999995, array(2.4))\n",
      "\n",
      "\n",
      "Geom \n",
      "expects: (2.0, 2.0, array(2.)), \n",
      "variances: (2.0, 2.0, 2.0, array(2.))\n",
      "\n",
      "\n",
      "Pois \n",
      "expects: (0.6, 0.6, array(0.6)), \n",
      "variances: (0.6, 0.5999999999999999, 0.6, array(0.6))\n",
      "\n",
      "\n",
      "NBinom \n",
      "expects: (7.5, 7.500000000000006, array(7.5)), \n",
      "variances: (18.75, 18.750000000000007, 18.749999999999964, array(18.75))\n",
      "\n",
      "\n",
      "HGeom \n",
      "expects: (4.199999999999999, 4.199999999999995, array(4.2)), \n",
      "variances: (1.1494736842105264, 1.1494736842105246, 1.149473684210541, array(1.14947368))\n",
      "\n",
      "\n",
      "Unif \n",
      "expects: (0.5, 0.5, array(0.5)), \n",
      "variances: (0.08333333333333333, 0.08333333333333333, 0.08333333333333337, array(0.08333333))\n",
      "\n",
      "\n",
      "Exp \n",
      "expects: (1.5, 1.4999999999999996, array(1.5)), \n",
      "variances: (1.0, 1.0, 1.0000000000000018, array(1.))\n",
      "\n",
      "\n",
      "N \n",
      "expects: (0.0, 0.0, array(0.)), \n",
      "variances: (1.0, 1.000000000000001, 1.000000000000001, array(1.))\n",
      "\n",
      "\n",
      "Г \n",
      "expects: (2.0, 2.0, array(2.)), \n",
      "variances: (2.0, 2.0000000000000004, 2.0, array(2.))\n",
      "\n",
      "\n",
      "LogNorm \n",
      "expects: (1.6487212707001282, 1.6487212706999776, array(1.64872127)), \n",
      "variances: (4.670774270471604, 4.670774270452187, 4.670774270429307, array(4.67077427))\n",
      "\n",
      "\n",
      "B \n",
      "expects: (0.6451612903225806, 0.6451612903225803, array(0.64516129)), \n",
      "variances: (0.05583614629070329, 0.055836146290680275, 0.05583614629070349, array(0.05583615))\n",
      "\n",
      "\n"
     ]
    }
   ],
   "source": [
    "# Місце для Вашого коду\n",
    "from scipy.stats import (binom,    \n",
    "                         geom,    \n",
    "                         poisson,    \n",
    "                         nbinom,  \n",
    "                         hypergeom,   \n",
    "                         uniform,    \n",
    "                         expon,   \n",
    "                         norm,    \n",
    "                         gamma,   \n",
    "                         lognorm,  \n",
    "                         beta)\n",
    "\n",
    "RV = {binom: ((10, 0.4), 'Binom'), \n",
    "      geom: ((0.5, ), 'Geom'), \n",
    "      poisson: ((0.6, ), 'Pois'),\n",
    "      nbinom: ((5, 0.4), 'NBinom'),\n",
    "      hypergeom: ((20, 7, 12), 'HGeom'),\n",
    "      uniform: ((0, 1), 'Unif'),\n",
    "      expon: ((0.5, ), 'Exp'),\n",
    "      norm: ((0, 1), 'N'),\n",
    "      gamma: ((2, ), 'Г'),\n",
    "      lognorm: ((1, 0), 'LogNorm'),\n",
    "      beta: ((2, 1.1), 'B')}\n",
    "\n",
    "\n",
    "def get_expects(rv):\n",
    "    return rv.mean(), rv.expect(), rv.stats()[0]\n",
    "\n",
    "\n",
    "def get_variances(rv):\n",
    "    tmp1 = rv.var()\n",
    "    tmp2 = rv.expect(lambda x: (x - rv.expect()) ** 2)\n",
    "    tmp3 = rv.expect(lambda x: x ** 2) - (rv.expect()) ** 2\n",
    "    tmp4 = rv.stats()[1]    \n",
    "    return tmp1, tmp2, tmp3, tmp4\n",
    "\n",
    "\n",
    "for cls, (params, name) in RV.items():\n",
    "    rv = cls(*params)\n",
    "    print(f'{name} \\nexpects: {get_expects(rv)}, \\nvariances: {get_variances(rv)}\\n\\n')\n"
   ]
  },
  {
   "cell_type": "markdown",
   "metadata": {},
   "source": [
    "## 2 Унікальні цифри"
   ]
  },
  {
   "cell_type": "markdown",
   "metadata": {},
   "source": [
    "Нехай випадковим чином вибирають послідовно $n$ цифр (цифри можуть повторюватися, вибірка з поверненням).\n",
    "Нехай тоді випадкова величина $\\xi$ - це кількість унікальних цифр в отриманому наборі.\n",
    "\n",
    "Напишіть функцію для обрахунку математичного сподівання та дисперсії випадкової величини $\\xi$ в залежності від кількості $n$ цифр у наборі методом повного перебору.\n",
    "Виведіть результат для $n = 1, 2, 3, 4, 5, 6, 7.$"
   ]
  },
  {
   "cell_type": "code",
   "execution_count": 1,
   "metadata": {},
   "outputs": [
    {
     "name": "stdout",
     "output_type": "stream",
     "text": [
      "n = 1, expect: 1.0, variance: 0.0\n",
      "n = 2, expect: 1.9000000000000001, variance: 0.08999999999999986\n",
      "n = 3, expect: 2.71, variance: 0.22589999999999932\n",
      "n = 4, expect: 3.439, variance: 0.37827899999999914\n",
      "n = 5, expect: 4.0951, variance: 0.5282559899999946\n",
      "n = 6, expect: 4.6855899999999995, variance: 0.6644163519000053\n",
      "n = 7, expect: 5.2170309999999995, variance: 0.7805445450390032\n"
     ]
    }
   ],
   "source": [
    "# Місце для Вашого коду\n",
    "\n",
    "from scipy.stats import rv_discrete\n",
    "from itertools import product\n",
    "import numpy as np\n",
    "\n",
    "\n",
    "def create_rv(n):\n",
    "    xn = np.arange(1, n+1)\n",
    "    pn = []\n",
    "    for k in xn:\n",
    "        count = 0\n",
    "        amount = 0\n",
    "        for el in product(range(10), repeat=n):\n",
    "            amount += 1\n",
    "            if len(set(el)) == k:\n",
    "                count += 1\n",
    "        pn.append(count / amount)\n",
    "    custm = rv_discrete(name='custm', values=(xn, pn))\n",
    "    return custm\n",
    "\n",
    "\n",
    "for i in range(1, 8):\n",
    "    rv = create_rv(i)\n",
    "    print(f'n = {i}, expect: {rv.expect()}, variance: {rv.var()}')"
   ]
  },
  {
   "cell_type": "markdown",
   "metadata": {},
   "source": [
    "## 3 Максимальне значення"
   ]
  },
  {
   "cell_type": "markdown",
   "metadata": {},
   "source": [
    "Нехай випадкова величина $\\xi$ - це максимальне значення після $n$ кидків грального кубика.\n",
    "\n",
    "Напишіть функцію для обрахунку математичного сподівання та дисперсії випадкової величини $\\xi$ в залежності від кількості $n$ кидків кубика методом повного перебору.\n",
    "Виведіть результат для $n = 1, 2, 3, 4, 5, 6, 7, 8, 9.$\n",
    "\n",
    "Напишіть теоретичну формулу для математичного сподівання та дисперсії випадкової величини $\\xi$.\n",
    "Порівняйте теоретичні значення з обчисленими повним перебором."
   ]
  },
  {
   "cell_type": "code",
   "execution_count": 3,
   "metadata": {},
   "outputs": [
    {
     "name": "stdout",
     "output_type": "stream",
     "text": [
      "n = 1, \n",
      "teoretical: (array(3.5), array(2.91666667)), \n",
      "using full permute: (array(3.5), array(2.91666667))\n",
      "\n",
      "n = 2, \n",
      "teoretical: (array(4.47222222), array(1.97145062)), \n",
      "using full permute: (array(4.47222222), array(1.97145062))\n",
      "\n",
      "n = 3, \n",
      "teoretical: (array(4.95833333), array(1.30844907)), \n",
      "using full permute: (array(4.95833333), array(1.30844907))\n",
      "\n",
      "n = 4, \n",
      "teoretical: (array(5.24459877), array(0.91007885)), \n",
      "using full permute: (array(5.24459877), array(0.91007885))\n",
      "\n",
      "n = 5, \n",
      "teoretical: (array(5.43094136), array(0.65932555)), \n",
      "using full permute: (array(5.43094136), array(0.65932555))\n",
      "\n",
      "n = 6, \n",
      "teoretical: (array(5.56029235), array(0.49284974)), \n",
      "using full permute: (array(5.56029235), array(0.49284974))\n",
      "\n",
      "n = 7, \n",
      "teoretical: (array(5.65411737), array(0.37732523)), \n",
      "using full permute: (array(5.65411737), array(0.37732523))\n",
      "\n",
      "n = 8, \n",
      "teoretical: (array(5.72435426), array(0.29424631)), \n",
      "using full permute: (array(5.72435426), array(0.29424631))\n",
      "\n",
      "n = 9, \n",
      "teoretical: (array(5.77817698), array(0.23276029)), \n",
      "using full permute: (array(5.77817698), array(0.23276029))\n",
      "\n"
     ]
    }
   ],
   "source": [
    "# Місце для Вашого коду\n",
    "\n",
    "\n",
    "def rv_teor(n):\n",
    "    xn = np.arange(1, 7)\n",
    "    pn = (xn**n - (xn - 1) ** n) / 6 ** n\n",
    "    return rv_discrete(name='custm2', values=(xn, pn))\n",
    "\n",
    "\n",
    "def rv_full_permute(n):\n",
    "    xn = np.arange(1, 7)\n",
    "    pn = []\n",
    "    for i in xn:\n",
    "        count = 0\n",
    "        amount = 0\n",
    "        for el in product(xn, repeat=n):\n",
    "            amount += 1\n",
    "            if max(el) == i:\n",
    "                count += 1\n",
    "        pn.append(count / amount)\n",
    "    return rv_discrete(name='custm3', values=(xn, pn))\n",
    "\n",
    "\n",
    "for n in range(1, 10):\n",
    "    tmp_rv1 = rv_teor(n)\n",
    "    tmp_rv2 = rv_full_permute(n)\n",
    "    print(f'n = {n}, \\nteoretical: {tmp_rv1.stats()}, \\nusing full permute: {tmp_rv2.stats()}\\n')\n"
   ]
  },
  {
   "cell_type": "markdown",
   "metadata": {},
   "source": [
    "## 4 Сума значень"
   ]
  },
  {
   "cell_type": "markdown",
   "metadata": {},
   "source": [
    "Нехай випадкова величина $\\xi$ - це сума значень після $n$ кидків грального кубика (сума цифр, що випали).\n",
    "\n",
    "Напишіть функцію для обрахунку математичного сподівання та дисперсії випадкової величини $\\xi$ в залежності від кількості $n$ кидків кубика методом повного перебору.\n",
    "Виведіть результат для $n = 1, 2, 3, 5, 7, 8.$\n",
    "\n",
    "Напишіть теоретичну формулу для математичного сподівання та дисперсії випадкової величини $\\xi$.\n",
    "Порівняйте теоретичні значення з обчисленими повним перебором."
   ]
  },
  {
   "cell_type": "code",
   "execution_count": 13,
   "metadata": {},
   "outputs": [
    {
     "name": "stdout",
     "output_type": "stream",
     "text": [
      "n = 1, \n",
      "teoretical: (3.5, 2.9166666666666665), \n",
      "using full permute: (3.5, 2.916666666666666)\n",
      "\n",
      "n = 2, \n",
      "teoretical: (7.0, 5.833333333333333), \n",
      "using full permute: (6.999999999999999, 5.833333333333336)\n",
      "\n",
      "n = 3, \n",
      "teoretical: (10.5, 8.75), \n",
      "using full permute: (10.500000000000002, 8.749999999999972)\n",
      "\n",
      "n = 5, \n",
      "teoretical: (17.5, 14.583333333333332), \n",
      "using full permute: (17.5, 14.583333333333371)\n",
      "\n",
      "n = 7, \n",
      "teoretical: (24.5, 20.416666666666664), \n",
      "using full permute: (24.5, 20.41666666666663)\n",
      "\n",
      "n = 8, \n",
      "teoretical: (28.0, 23.333333333333332), \n",
      "using full permute: (28.000000000000007, 23.33333333333303)\n",
      "\n"
     ]
    }
   ],
   "source": [
    "# Місце для Вашого коду\n",
    "\n",
    "def teor(n):\n",
    "    return 3.5 * n, (35/12) * n \n",
    "\n",
    "\n",
    "def permute(n):\n",
    "    xn = np.arange(0, 6*n+1)\n",
    "    pn = []\n",
    "    for i in xn:\n",
    "        count = 0\n",
    "        amount = 0\n",
    "        for el in product(range(1, 7), repeat=n):\n",
    "            amount += 1\n",
    "            if sum(el) == i:\n",
    "                count += 1\n",
    "        pn.append(count / amount)\n",
    "        \n",
    "    expect = 0\n",
    "    var = 0\n",
    "    for i, pi in zip(xn, pn):\n",
    "        expect += i * pi\n",
    "        var += i**2 * pi\n",
    "    \n",
    "    return expect, var - expect**2\n",
    "\n",
    "for n in [1, 2, 3, 5, 7, 8]:\n",
    "    tmp_rv1 = teor(n)\n",
    "    tmp_rv2 = permute(n)\n",
    "    print(f'n = {n}, \\nteoretical: {tmp_rv1}, \\nusing full permute: {tmp_rv2}\\n')\n"
   ]
  },
  {
   "cell_type": "markdown",
   "metadata": {},
   "source": [
    "## 5 Парадокс днів народження"
   ]
  },
  {
   "cell_type": "markdown",
   "metadata": {},
   "source": [
    "Нехай маємо $n$ людей.\n",
    "Їх дні народження припадають на один з 12 місяців.\n",
    "Нехай тоді випадкова величина $\\xi$ - це кількість співпадінь місяців народжень серед цих $n$ людей.\n",
    "\n",
    "Напишіть функцію для обрахунку математичного сподівання та дисперсії випадкової величини $\\xi$ в залежності від кількості $n$ людей методом повного перебору.\n",
    "Виведіть результат для $n = 1, 2, 3, 4, 5, 6.$\n",
    "\n",
    "Для якого $n$ виконується $\\mathsf{E}\\left[ \\xi \\right] \\geq 1$?\n",
    "\n",
    "**Зауваження.** Кількість співпадінь означає кількість однакових пар. Наприклад,\n",
    "- у наборі $\\{ 1, 1, 2, 3 \\}$ є одна пара;\n",
    "- у наборі $\\{ 1, 1, 1, 3 \\}$ є три пари;\n",
    "- у наборі $\\{ 1, 1, 1, 1 \\}$ є шість пар."
   ]
  },
  {
   "cell_type": "code",
   "execution_count": 3,
   "metadata": {},
   "outputs": [
    {
     "name": "stdout",
     "output_type": "stream",
     "text": [
      "n = 1, results: (0.0, 0.0)\n",
      "n = 2, results: (0.08333333333333333, 0.07638888888888888)\n",
      "n = 3, results: (0.25, 0.22916666666666663)\n",
      "n = 4, results: (0.49999999999999994, 0.4583333333333334)\n",
      "n = 5, results: (0.8333333333333334, 0.763888888888889)\n",
      "n = 6, results: (1.25, 1.145833333333333)\n"
     ]
    }
   ],
   "source": [
    "# Місце для Вашого коду\n",
    "from collections import Counter, defaultdict\n",
    "\n",
    "factorials = {1: 1, 0: 1}\n",
    "\n",
    "def factorial(n):\n",
    "    if n not in factorials:\n",
    "        factorials[n] = factorial(n-1) * n\n",
    "    return factorials[n]\n",
    "\n",
    "\n",
    "def binomial(n, k):\n",
    "    if k == n:\n",
    "        return 1\n",
    "    elif k > n:\n",
    "        return 0\n",
    "    else:\n",
    "        return int(factorial(n) / (factorial(n - k) * factorial(k)))\n",
    "\n",
    "\n",
    "def permute(n):\n",
    "    counts = defaultdict(int)\n",
    "    amount = 0\n",
    "    for el in product(range(1, 13), repeat=n):\n",
    "        tmp = Counter(el)\n",
    "        res = sum(map(lambda a: binomial(a, 2), tmp.values()))    # number of pairs\n",
    "        counts[res] += 1\n",
    "        amount += 1\n",
    "    expect = 0\n",
    "    var = 0\n",
    "    for i in range(max(counts.keys()) + 1):\n",
    "        expect += i * counts[i] / amount\n",
    "        var += i**2 * counts[i] / amount\n",
    "    return expect, var - expect ** 2\n",
    "\n",
    "\n",
    "for n in range(1, 7):\n",
    "    print(f'n = {n}, results: {permute(n)}')\n",
    "    "
   ]
  }
 ],
 "metadata": {
  "kernelspec": {
   "display_name": "Python 3",
   "language": "python",
   "name": "python3"
  },
  "language_info": {
   "codemirror_mode": {
    "name": "ipython",
    "version": 3
   },
   "file_extension": ".py",
   "mimetype": "text/x-python",
   "name": "python",
   "nbconvert_exporter": "python",
   "pygments_lexer": "ipython3",
   "version": "3.6.7"
  }
 },
 "nbformat": 4,
 "nbformat_minor": 1
}
